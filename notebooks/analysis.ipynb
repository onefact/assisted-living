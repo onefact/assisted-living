{
 "cells": [
  {
   "cell_type": "markdown",
   "metadata": {},
   "source": [
    "# Geo-spatial analysis of assisted living data\n",
    "\n",
    "In this notebook we're going to try to do a cool analysis of AL need.\n",
    "\n",
    "The stat we're trying to come up with is: If everyone with AL need had the ability and desire to get to an ALF, how far would an individual have to travel to get to a bed?\n",
    "\n",
    "Here what we have done and have to do:\n",
    "\n",
    "1. [x]  Get PUMA disability data for the US by querying census data\n",
    "1. [x]  Turn raw PUMA data into need counts for each PUMA\n",
    "1. [x]  Convert PUMA data into county data\n",
    "1. [x]  Get locations for each county\n",
    "1. [x]  Figure out distance to travel from one county's centroid to neighboring beds\n",
    "1. [x]  Create dynamic variable of what percent of need is already satisfied (with home care, family options, etc...)\n",
    "1. [ ]  Get travel times in different areas\n",
    "1. [ ]  Figure out how to better model need geographically. I.e. instead of centroids, more dispersed population\n",
    "1. [ ]  Figure out how to solve constrained optimization problem of bed allocation for optimal travel times"
   ]
  },
  {
   "cell_type": "markdown",
   "metadata": {},
   "source": [
    "## Importing"
   ]
  },
  {
   "cell_type": "code",
   "execution_count": 1,
   "metadata": {},
   "outputs": [],
   "source": [
    "import numpy as np\n",
    "import numpy.random as npr\n",
    "import pandas as pd\n",
    "\n",
    "import json\n",
    "import requests\n",
    "\n",
    "import pickle\n",
    "\n",
    "import time\n",
    "\n",
    "import matplotlib\n",
    "import matplotlib.pyplot as plt\n",
    "\n",
    "import altair as alt\n",
    "from vega_datasets import data\n",
    "\n",
    "from scipy.spatial import KDTree\n",
    "\n",
    "import plotly.express as px\n",
    "import plotly.graph_objects as go"
   ]
  },
  {
   "cell_type": "code",
   "execution_count": 106,
   "metadata": {},
   "outputs": [],
   "source": [
    "import chart_studio\n",
    "import chart_studio.plotly as py\n",
    "\n",
    "import chart_studio.tools as tls\n",
    "chart_studio.tools.set_credentials_file(username='antonstengel', api_key='RFpfpkiXaFzkAxNnf1Xj')"
   ]
  },
  {
   "cell_type": "code",
   "execution_count": 2,
   "metadata": {},
   "outputs": [],
   "source": [
    "disabilities = ['DOUT', 'DPHY', 'DREM', 'DDRS']"
   ]
  },
  {
   "cell_type": "code",
   "execution_count": 3,
   "metadata": {},
   "outputs": [],
   "source": [
    "columns = ['Address',\n",
    " 'Capacity',\n",
    " 'City',\n",
    " 'County',\n",
    " 'Date Accessed',\n",
    " 'Email Address',\n",
    " 'Facility ID',\n",
    " 'Facility Name',\n",
    " 'Latitude',\n",
    " 'License Number',\n",
    " 'Licensee',\n",
    " 'Longitude',\n",
    " 'Ownership Type',\n",
    " 'Phone Number',\n",
    " 'State',\n",
    " 'State Facility Type 1 Literal',\n",
    " 'State Facility Type 2 Literal',\n",
    " 'Zip Code']\n",
    "\n",
    "cols_to_title = ['City', 'County', 'Facility Name']\n",
    "cols_to_lower = ['Email Address']\n",
    "cols_to_upper = ['Address', 'State Facility Type 1 Literal', 'State Facility Type 2 Literal', 'Ownership Type', 'Licensee']"
   ]
  },
  {
   "cell_type": "markdown",
   "metadata": {},
   "source": [
    "## Functions"
   ]
  },
  {
   "cell_type": "code",
   "execution_count": 4,
   "metadata": {},
   "outputs": [],
   "source": [
    "# cleaner function\n",
    "# adds state abbreviation\n",
    "# fixes capitalization\n",
    "# removes some duplicates and shows you how many remaining\n",
    "def cleaner(df):\n",
    "    # finding wrong columns\n",
    "    print('Extraneous columns are:\\n{}'.format(list(set(df.columns) - set(columns))))\n",
    "\n",
    "    # df['State'] = state\n",
    "\n",
    "    # fixing capitalization\n",
    "    for col in df.columns:\n",
    "        if   col in cols_to_title: df[col] = df[col].str.title()\n",
    "        elif col in cols_to_lower: df[col] = df[col].str.lower()\n",
    "        elif col in cols_to_upper: df[col] = df[col].str.upper()\n",
    "\n",
    "\n",
    "    if 'License Number' in df.columns:\n",
    "        df.drop_duplicates(['Facility Name', 'License Number'], inplace=True)\n",
    "        print('{} ALFs, {} unique License Numbers, {} NA License Numbers'.format(df.shape[0], df['License Number'].unique().shape[0], df['License Number'].isna().sum()))\n",
    "    elif 'Facility ID' in df.columns:\n",
    "        df.drop_duplicates(['Facility Name', 'Facility ID'], inplace=True)\n",
    "        print('{} ALFs, {} unique Facility IDs, {} NA Facility IDs'.format(df.shape[0], df['Facility ID'].unique().shape[0], df['Facility ID'].isna().sum()))\n",
    "    else:\n",
    "        df.drop_duplicates(['Facility Name', 'Address'], inplace=True)\n",
    "        print('No License Number or Facility ID')"
   ]
  },
  {
   "cell_type": "markdown",
   "metadata": {},
   "source": [
    "### Functions to get disability data"
   ]
  },
  {
   "cell_type": "code",
   "execution_count": 5,
   "metadata": {},
   "outputs": [],
   "source": [
    "# takes a row of df and returns 0 for no disability, 1 for ALF, 2 for NH\n",
    "disability_status_helper = lambda x: 1 if x == 1 else 0\n",
    "\n",
    "def get_disability_status(row):\n",
    "    if row['DDRS'] == 1:\n",
    "        return 2\n",
    "    elif row[disabilities].apply(disability_status_helper).sum() >= 2:\n",
    "        return 2\n",
    "    elif row[disabilities].apply(disability_status_helper).sum() == 1:\n",
    "        return 1\n",
    "    else:\n",
    "        return 0"
   ]
  },
  {
   "cell_type": "code",
   "execution_count": 6,
   "metadata": {},
   "outputs": [],
   "source": [
    "# NEW DISABILITY METRIC\n",
    "def get_disability_status_new(row):\n",
    "    if row['DDRS'] == 1:\n",
    "        return 1\n",
    "    elif row[disabilities].apply(disability_status_helper).sum() >= 2:\n",
    "        return 1\n",
    "    else:\n",
    "        return 0"
   ]
  },
  {
   "cell_type": "code",
   "execution_count": 7,
   "metadata": {},
   "outputs": [],
   "source": [
    "# takes a df of disability data and returns column of disability status\n",
    "def get_disability_status_column(df):\n",
    "    temp = df.apply(get_disability_status, axis=1)\n",
    "    return temp"
   ]
  },
  {
   "cell_type": "code",
   "execution_count": 8,
   "metadata": {},
   "outputs": [],
   "source": [
    "# takes a df of disability data and returns column of disability status\n",
    "def get_disability_status_column_new(df):\n",
    "    temp = df.apply(get_disability_status_new, axis=1)\n",
    "    return temp"
   ]
  },
  {
   "cell_type": "code",
   "execution_count": 9,
   "metadata": {},
   "outputs": [],
   "source": [
    "# takes a df with a disability status column and populates the number of people in each puma with 'ALF' and 'NH' needs and returns dictionary\n",
    "def count_disabilities(df):\n",
    "    disability_dict = {'ALF':{}, 'NH':{}}\n",
    "    for puma in df['PUMA'].unique():\n",
    "        temp = df[df['PUMA'] == puma]\n",
    "\n",
    "        disability_dict['ALF'][puma] = temp.loc[temp['Disability Status'] == 1, 'PWGTP'].sum()\n",
    "        disability_dict['NH'][puma] = temp.loc[temp['Disability Status'] == 2, 'PWGTP'].sum()\n",
    "    return disability_dict"
   ]
  },
  {
   "cell_type": "code",
   "execution_count": 10,
   "metadata": {},
   "outputs": [],
   "source": [
    "# function that takes list of PUMA's and returns query string to get data from the PUMA's\n",
    "def query_str(pumas):\n",
    "    return url_base + '7950000US' + ',7950000US'.join(pumas)"
   ]
  },
  {
   "cell_type": "code",
   "execution_count": 11,
   "metadata": {},
   "outputs": [],
   "source": [
    "# takes state abbreviation and returns df of relevent pums data for all PUMA's in state\n",
    "# have to break request into chunks so census website gives proper response\n",
    "# no request has more then 50 PUMA's in it\n",
    "def get_pums_data(state):\n",
    "    temp = puma_codes_df[puma_codes_df['State Code'] == state_code_dict[state]]['Full Code'].values\n",
    "\n",
    "    num_parts = np.ceil(temp.shape[0] / 50)\n",
    "    temp_split = np.array_split(temp, num_parts)\n",
    "\n",
    "    urls = list(map(query_str, temp_split))\n",
    "    jsons = [requests.get(url).json() for url in urls]\n",
    "    dfs = [pd.DataFrame(json[1:], columns=json[0]).astype(int) for json in jsons]\n",
    "    return pd.concat(dfs)"
   ]
  },
  {
   "cell_type": "markdown",
   "metadata": {},
   "source": [
    "### Functions to calculate distances"
   ]
  },
  {
   "cell_type": "code",
   "execution_count": 12,
   "metadata": {},
   "outputs": [],
   "source": [
    "# takes a row of county df with lat long and returns nearest facilities to satisfy ALF need * scalar\n",
    "def get_alf_neighbors(row, scalar, capacity_type):\n",
    "    assert scalar > 0 and scalar <= 1\n",
    "\n",
    "    coord = [row['Latitude'], row['Longitude']]\n",
    "    num_facilities = 5\n",
    "\n",
    "    d, i = alf_kdtree.query(coord, k = num_facilities)\n",
    "\n",
    "    if county_disability_dict.get(row['FIPS']) is None:\n",
    "        print(\"Dictionary of county disability information doesn't have county with FIPS {}\".format(row['FIPS']))\n",
    "        return 0\n",
    "\n",
    "    while alf_df.iloc[i][capacity_type].sum() < (county_disability_dict[row['FIPS']]['ALF'] * scalar):\n",
    "        num_facilities += 5\n",
    "        d, i = alf_kdtree.query(coord, k = num_facilities)\n",
    "    return alf_df.iloc[i]"
   ]
  },
  {
   "cell_type": "code",
   "execution_count": 13,
   "metadata": {},
   "outputs": [],
   "source": [
    "# takes a row of county df with lat long and returns nearest facilities to satisfy NH need * scalar\n",
    "def get_nh_neighbors(row, scalar):\n",
    "    assert scalar > 0 and scalar <= 1\n",
    "\n",
    "    coord = [row['Latitude'], row['Longitude']]\n",
    "    num_facilities = 5\n",
    "\n",
    "    d, i = nh_kdtree.query(coord, k = num_facilities)\n",
    "\n",
    "    if county_disability_dict.get(row['FIPS']) is None:\n",
    "        print(\"Dictionary of county disability information doesn't have county with FIPS {}\".format(row['FIPS']))\n",
    "        return 0\n",
    "\n",
    "    while nh_df.iloc[i]['Number of Certified Beds'].sum() < (county_disability_dict[row['FIPS']]['NH'] * scalar):\n",
    "        num_facilities += 5\n",
    "        d, i = nh_kdtree.query(coord, k = num_facilities)\n",
    "    return nh_df.iloc[i]"
   ]
  },
  {
   "cell_type": "code",
   "execution_count": 14,
   "metadata": {},
   "outputs": [],
   "source": [
    "# takes a row and a df and returns mean distance in miles from the row's lat/long to lat/long of each item in df, using the Haversine formula. See https://stackoverflow.com/questions/27928/calculate-distance-between-two-latitude-longitude-points-haversine-formula for where the code came from\n",
    "def mean_distance(row, df):\n",
    "    p = np.pi/180\n",
    "    return np.mean(3959.87433 * 2 * np.arcsin(np.sqrt(  0.5 -  np.cos((row['Latitude']-df['Latitude'])*p)/2 + np.cos(df['Latitude']*p) * np.cos(row['Latitude']*p) * (1-np.cos((row['Longitude'] - df['Longitude'])*p))/2)))"
   ]
  },
  {
   "cell_type": "code",
   "execution_count": 15,
   "metadata": {},
   "outputs": [],
   "source": [
    "# combine neighbors and mean distance\n",
    "def get_mean_distance_to_alf(row, scalar, capacity_type):\n",
    "    return mean_distance(row, get_alf_neighbors(row, scalar, capacity_type))\n",
    "\n",
    "# combine neighbors and mean distance\n",
    "def get_mean_distance_to_nh(row, scalar):\n",
    "    return mean_distance(row, get_nh_neighbors(row, scalar))"
   ]
  },
  {
   "cell_type": "markdown",
   "metadata": {},
   "source": [
    "## Variables"
   ]
  },
  {
   "cell_type": "code",
   "execution_count": 24,
   "metadata": {},
   "outputs": [],
   "source": [
    "# dictionary for disability data of each state and each PUMA\n",
    "with open(\"../data/other-data/disability-puma-data.pkl\", 'rb') as f:\n",
    "    puma_disability_dict = pickle.load(f)\n",
    "\n",
    "with open(\"../data/other-data/disability-puma-data-new.pkl\", 'rb') as f:\n",
    "    puma_disability_dict_new = pickle.load(f)\n",
    "\n",
    "# ALF dataset\n",
    "# alf_df = pd.read_pickle('alf-datasets/national/national-dataset-1-with-coordinates.pkl')\n",
    "# alf_df.drop(alf_df[alf_df['State'] == '52'].index, inplace = True) # dropping one weird row\n",
    "# grabbing new dataset as of 8/27/21 with all states but AK, ND, and VA\n",
    "# alf_df = pd.read_csv('alf-datasets/national/national-dataset-48states-with-coords-and-county-8-28-21.csv')\n",
    "alf_df = pd.read_csv('../alf-dataset.csv')\n",
    "\n",
    "# list of states that we have ALF data for\n",
    "states_with_alf_data = alf_df['State'].unique()\n",
    "\n",
    "# NH dataset\n",
    "# nh_df = pd.read_pickle('../../nh/data/nh-data/nh-long-1.pkl')\n",
    "\n",
    "# Useful state info dataset we've already made\n",
    "state_info_df = pd.read_pickle('../data/other-data/state-info-with-extras.pkl')\n",
    "\n",
    "# dictionary of state abbriviation to state code using our state_info dataset\n",
    "state_code_dict = dict(zip(state_info_df['abbreviation'], state_info_df['id']))\n",
    "\n",
    "# PUMA county equivalence file and adding useful columns\n",
    "puma_county_equivalence_df = pd.read_csv('../data/other-data/puma-county-equivalence.csv')\n",
    "puma_county_equivalence_df['Full Puma Code'] = puma_county_equivalence_df.apply(lambda x: str(x['State code']).zfill(2) + str(x['PUMA (2012)']).zfill(5), axis=1)\n",
    "\n",
    "puma_county_equivalence_df['ALF need'] = puma_county_equivalence_df.apply(lambda x: puma_disability_dict[x['State abbreviation']]['ALF'][x['PUMA (2012)']], axis=1)\n",
    "puma_county_equivalence_df['ALF need new'] = puma_county_equivalence_df.apply(lambda x: puma_disability_dict_new[x['State abbreviation']]['ALF'][x['PUMA (2012)']], axis=1)\n",
    "puma_county_equivalence_df['NH need'] = puma_county_equivalence_df.apply(lambda x: puma_disability_dict[x['State abbreviation']]['NH'][x['PUMA (2012)']], axis=1)\n",
    "\n",
    "\n",
    "\n",
    "puma_county_equivalence_df['Scaled county ALF need'] = puma_county_equivalence_df['puma12 to county allocation factor'] * puma_county_equivalence_df['ALF need']\n",
    "puma_county_equivalence_df['Scaled county ALF need new'] = puma_county_equivalence_df['puma12 to county allocation factor'] * puma_county_equivalence_df['ALF need new']\n",
    "puma_county_equivalence_df['Scaled county NH need'] = puma_county_equivalence_df['puma12 to county allocation factor'] * puma_county_equivalence_df['NH need']\n",
    "\n",
    "# getting county fips and lat/long coord info\n",
    "county_info_df = pd.read_csv('../data/other-data/county-coords.csv')\n",
    "county_info_df['Latitude'] = county_info_df['Latitude'].apply(lambda x: float(x[1:-1]))\n",
    "county_info_df['Longitude'] = county_info_df['Longitude'].apply(lambda x: -1 * float(x[1:-1]))\n",
    "\n",
    "# 65+ population per county (2015-2019)\n",
    "county_oldpopulation_df = pd.read_csv('../data/county-data-for-replication/county-age-65.csv')\n",
    "county_oldpopulation_df.columns = ['County', 'State', 'FIPS', 'Formatted FIPS', '65+ Population']\n",
    "\n",
    "# PUMA codes\n",
    "#puma_codes_df = pd.read_csv('../data/other-data/2010-puma-names.csv')\n",
    "#puma_codes_df.drop(columns='PUMA NAME', inplace=True)\n",
    "#puma_codes_df['Full Code'] = puma_codes_df.apply(lambda x: str(x['STATEFP']).zfill(2) + str(x['PUMA5CE']).zfill(5), axis=1)\n",
    "#puma_codes_df.rename(columns={'STATEFP':'State Code','PUMA5CE':'PUMA Code'}, inplace=True)\n",
    "\n",
    "# just add puma codes to end of this url and use for request\n",
    "url_base = 'https://api.census.gov/data/2019/acs/acs1/pums?get=PWGTP,DOUT,DREM,DPHY,DDRS&ucgid='"
   ]
  },
  {
   "cell_type": "code",
   "execution_count": 25,
   "metadata": {},
   "outputs": [
    {
     "name": "stdout",
     "output_type": "stream",
     "text": [
      "Extraneous columns are:\n",
      "['County Poverty Rate', 'County Median Household Income', 'County Percent of Population 85 or Older', 'County Median Home Value of Owned Homes', 'County Percent Black Population', 'County FIPS', 'County Percent Hispanic Population', 'County Gender Ratio', 'County Unemployment Rate', 'County Less Than High School Diploma Rate', 'County Percent of Population 65 or Older', 'Total County AL Need', 'County College Education or Higher Rate', 'County Percent Whilte Population', 'County Homeownership Rate', 'County Median Age']\n",
      "43399 ALFs, 20507 unique License Numbers, 22507 NA License Numbers\n"
     ]
    }
   ],
   "source": [
    "cleaner(alf_df)"
   ]
  },
  {
   "cell_type": "markdown",
   "metadata": {},
   "source": [
    "## Getting disability data"
   ]
  },
  {
   "cell_type": "code",
   "execution_count": 26,
   "metadata": {},
   "outputs": [
    {
     "data": {
      "text/plain": [
       "'\\npuma_disability_dict = {}\\nfor state in list(state_code_dict.keys()):\\n    start = time.time()\\n    temp = get_pums_data(state)\\n    end = time.time()\\n    print(\\'{:.2f}s to get {} data.\\'.format(end-start, state), end=\\' \\', flush=True)\\n\\n    start = time.time()\\n    temp[\\'Disability Status\\'] = get_disability_status_column(temp)\\n    puma_disability_dict[state] = count_disabilities(temp)\\n    end = time.time()\\n    print(\\'{:.2f}s to count disability info.\\'.format(end-start), flush=True)\\n\\nwith open(\"alf-datasets/national/disability-puma-data.pkl\", \"wb\") as f: \\n    pickle.dump(puma_disability_dict, f)\\n'"
      ]
     },
     "execution_count": 26,
     "metadata": {},
     "output_type": "execute_result"
    }
   ],
   "source": [
    "# populates puma_disability_dict with all NH and ALF data for every PUMA for every state\n",
    "# already done this and stored data in alf-datasets/national/disability-puma-data.pkl\n",
    "# codes takes ~ 30 mins to run\n",
    "'''\n",
    "puma_disability_dict = {}\n",
    "for state in list(state_code_dict.keys()):\n",
    "    start = time.time()\n",
    "    temp = get_pums_data(state)\n",
    "    end = time.time()\n",
    "    print('{:.2f}s to get {} data.'.format(end-start, state), end=' ', flush=True)\n",
    "\n",
    "    start = time.time()\n",
    "    temp['Disability Status'] = get_disability_status_column(temp)\n",
    "    puma_disability_dict[state] = count_disabilities(temp)\n",
    "    end = time.time()\n",
    "    print('{:.2f}s to count disability info.'.format(end-start), flush=True)\n",
    "\n",
    "with open(\"alf-datasets/national/disability-puma-data.pkl\", \"wb\") as f: \n",
    "    pickle.dump(puma_disability_dict, f)\n",
    "'''"
   ]
  },
  {
   "cell_type": "code",
   "execution_count": 27,
   "metadata": {},
   "outputs": [
    {
     "data": {
      "text/plain": [
       "'\\npuma_disability_dict_new = {}\\nfor state in list(state_code_dict.keys()):\\n    start = time.time()\\n    temp = get_pums_data(state)\\n    end = time.time()\\n    print(\\'{:.2f}s to get {} data.\\'.format(end-start, state), end=\\' \\', flush=True)\\n\\n    start = time.time()\\n    temp[\\'Disability Status\\'] = get_disability_status_column_new(temp)\\n    puma_disability_dict_new[state] = count_disabilities(temp)\\n    end = time.time()\\n    print(\\'{:.2f}s to count disability info.\\'.format(end-start), flush=True)\\n\\nwith open(\"alf-datasets/national/disability-puma-data-new.pkl\", \"wb\") as f: \\n    pickle.dump(puma_disability_dict_new, f)\\n'"
      ]
     },
     "execution_count": 27,
     "metadata": {},
     "output_type": "execute_result"
    }
   ],
   "source": [
    "'''\n",
    "puma_disability_dict_new = {}\n",
    "for state in list(state_code_dict.keys()):\n",
    "    start = time.time()\n",
    "    temp = get_pums_data(state)\n",
    "    end = time.time()\n",
    "    print('{:.2f}s to get {} data.'.format(end-start, state), end=' ', flush=True)\n",
    "\n",
    "    start = time.time()\n",
    "    temp['Disability Status'] = get_disability_status_column_new(temp)\n",
    "    puma_disability_dict_new[state] = count_disabilities(temp)\n",
    "    end = time.time()\n",
    "    print('{:.2f}s to count disability info.'.format(end-start), flush=True)\n",
    "\n",
    "with open(\"alf-datasets/national/disability-puma-data-new.pkl\", \"wb\") as f: \n",
    "    pickle.dump(puma_disability_dict_new, f)\n",
    "'''"
   ]
  },
  {
   "cell_type": "code",
   "execution_count": 28,
   "metadata": {},
   "outputs": [
    {
     "data": {
      "text/plain": [
       "\"# converts disability data about PUMA's into disability data about counties\\ncounty_disability_dict = {}\\nfor county in puma_county_equivalence_df['County code'].unique():\\n    county_disability_dict[county] = {'ALF': puma_county_equivalence_df[puma_county_equivalence_df['County code'] == county]['Scaled county ALF need'].sum(), \\n                                 'NH': puma_county_equivalence_df[puma_county_equivalence_df['County code'] == county]['Scaled county NH need'].sum()}\\n                                 \\n# APPARRENTLY 2270 IS A COUNTY WE ARE MISSING SO JUST GONNA SET IT TO 0\\ncounty_disability_dict[2270] = {'ALF':0, 'NH': 0}\""
      ]
     },
     "execution_count": 28,
     "metadata": {},
     "output_type": "execute_result"
    }
   ],
   "source": [
    "# THIS IS THE OLD COUNTY DISABILITY DICT\n",
    "'''# converts disability data about PUMA's into disability data about counties\n",
    "county_disability_dict = {}\n",
    "for county in puma_county_equivalence_df['County code'].unique():\n",
    "    county_disability_dict[county] = {'ALF': puma_county_equivalence_df[puma_county_equivalence_df['County code'] == county]['Scaled county ALF need'].sum(), \n",
    "                                 'NH': puma_county_equivalence_df[puma_county_equivalence_df['County code'] == county]['Scaled county NH need'].sum()}\n",
    "                                 \n",
    "# APPARRENTLY 2270 IS A COUNTY WE ARE MISSING SO JUST GONNA SET IT TO 0\n",
    "county_disability_dict[2270] = {'ALF':0, 'NH': 0}'''"
   ]
  },
  {
   "cell_type": "code",
   "execution_count": 29,
   "metadata": {},
   "outputs": [],
   "source": [
    "# THIS USES THE NEW METRIC INSTEAD\n",
    "\n",
    "# converts disability data about PUMA's into disability data about counties\n",
    "county_disability_dict = {}\n",
    "for county in puma_county_equivalence_df['County code'].unique():\n",
    "    county_disability_dict[county] = {'ALF': puma_county_equivalence_df[puma_county_equivalence_df['County code'] == county]['Scaled county ALF need new'].sum(), \n",
    "                                 'NH': puma_county_equivalence_df[puma_county_equivalence_df['County code'] == county]['Scaled county NH need'].sum()}\n",
    "                                 \n",
    "# APPARRENTLY 2270 IS A COUNTY WE ARE MISSING SO JUST GONNA SET IT TO 0\n",
    "county_disability_dict[2270] = {'ALF':0, 'NH': 0}"
   ]
  },
  {
   "cell_type": "markdown",
   "metadata": {},
   "source": [
    "## General statistics"
   ]
  },
  {
   "cell_type": "code",
   "execution_count": 30,
   "metadata": {},
   "outputs": [
    {
     "ename": "NameError",
     "evalue": "name 'nh_df' is not defined",
     "output_type": "error",
     "traceback": [
      "\u001b[0;31m---------------------------------------------------------------------------\u001b[0m",
      "\u001b[0;31mNameError\u001b[0m                                 Traceback (most recent call last)",
      "\u001b[0;32m<ipython-input-30-dce9c3a16216>\u001b[0m in \u001b[0;36m<module>\u001b[0;34m\u001b[0m\n\u001b[1;32m      3\u001b[0m     \u001b[0mnp\u001b[0m\u001b[0;34m.\u001b[0m\u001b[0msum\u001b[0m\u001b[0;34m(\u001b[0m\u001b[0;34m[\u001b[0m\u001b[0mcounty_disability_dict\u001b[0m\u001b[0;34m[\u001b[0m\u001b[0mx\u001b[0m\u001b[0;34m]\u001b[0m\u001b[0;34m[\u001b[0m\u001b[0;34m'ALF'\u001b[0m\u001b[0;34m]\u001b[0m \u001b[0;32mfor\u001b[0m \u001b[0mx\u001b[0m \u001b[0;32min\u001b[0m \u001b[0mcounty_disability_dict\u001b[0m\u001b[0;34m.\u001b[0m\u001b[0mkeys\u001b[0m\u001b[0;34m(\u001b[0m\u001b[0;34m)\u001b[0m\u001b[0;34m]\u001b[0m\u001b[0;34m)\u001b[0m\u001b[0;34m,\u001b[0m\u001b[0;34m\u001b[0m\u001b[0;34m\u001b[0m\u001b[0m\n\u001b[1;32m      4\u001b[0m     \u001b[0mnp\u001b[0m\u001b[0;34m.\u001b[0m\u001b[0msum\u001b[0m\u001b[0;34m(\u001b[0m\u001b[0;34m[\u001b[0m\u001b[0mcounty_disability_dict\u001b[0m\u001b[0;34m[\u001b[0m\u001b[0mx\u001b[0m\u001b[0;34m]\u001b[0m\u001b[0;34m[\u001b[0m\u001b[0;34m'NH'\u001b[0m\u001b[0;34m]\u001b[0m \u001b[0;32mfor\u001b[0m \u001b[0mx\u001b[0m \u001b[0;32min\u001b[0m \u001b[0mcounty_disability_dict\u001b[0m\u001b[0;34m.\u001b[0m\u001b[0mkeys\u001b[0m\u001b[0;34m(\u001b[0m\u001b[0;34m)\u001b[0m\u001b[0;34m]\u001b[0m\u001b[0;34m)\u001b[0m\u001b[0;34m,\u001b[0m\u001b[0;34m\u001b[0m\u001b[0;34m\u001b[0m\u001b[0m\n\u001b[0;32m----> 5\u001b[0;31m     \u001b[0mnh_df\u001b[0m\u001b[0;34m[\u001b[0m\u001b[0;34m'Number of Certified Beds'\u001b[0m\u001b[0;34m]\u001b[0m\u001b[0;34m.\u001b[0m\u001b[0msum\u001b[0m\u001b[0;34m(\u001b[0m\u001b[0;34m)\u001b[0m\u001b[0;34m,\u001b[0m\u001b[0;34m\u001b[0m\u001b[0;34m\u001b[0m\u001b[0m\n\u001b[0m\u001b[1;32m      6\u001b[0m     \u001b[0;34m(\u001b[0m\u001b[0;36m51\u001b[0m\u001b[0;34m/\u001b[0m\u001b[0;36m39\u001b[0m\u001b[0;34m)\u001b[0m \u001b[0;34m*\u001b[0m \u001b[0;34m(\u001b[0m\u001b[0;34m(\u001b[0m\u001b[0malf_df\u001b[0m\u001b[0;34m[\u001b[0m\u001b[0;34m'Capacity'\u001b[0m\u001b[0;34m]\u001b[0m\u001b[0;34m.\u001b[0m\u001b[0msum\u001b[0m\u001b[0;34m(\u001b[0m\u001b[0;34m)\u001b[0m \u001b[0;34m/\u001b[0m \u001b[0malf_df\u001b[0m\u001b[0;34m[\u001b[0m\u001b[0;34m'Capacity'\u001b[0m\u001b[0;34m]\u001b[0m\u001b[0;34m.\u001b[0m\u001b[0mnotnull\u001b[0m\u001b[0;34m(\u001b[0m\u001b[0;34m)\u001b[0m\u001b[0;34m.\u001b[0m\u001b[0msum\u001b[0m\u001b[0;34m(\u001b[0m\u001b[0;34m)\u001b[0m\u001b[0;34m)\u001b[0m \u001b[0;34m*\u001b[0m \u001b[0malf_df\u001b[0m\u001b[0;34m.\u001b[0m\u001b[0mshape\u001b[0m\u001b[0;34m[\u001b[0m\u001b[0;36m0\u001b[0m\u001b[0;34m]\u001b[0m\u001b[0;34m)\u001b[0m\u001b[0;34m,\u001b[0m\u001b[0;34m\u001b[0m\u001b[0;34m\u001b[0m\u001b[0m\n\u001b[1;32m      7\u001b[0m     \u001b[0mnp\u001b[0m\u001b[0;34m.\u001b[0m\u001b[0msum\u001b[0m\u001b[0;34m(\u001b[0m\u001b[0;34m[\u001b[0m\u001b[0mcounty_disability_dict\u001b[0m\u001b[0;34m[\u001b[0m\u001b[0mx\u001b[0m\u001b[0;34m]\u001b[0m\u001b[0;34m[\u001b[0m\u001b[0;34m'NH'\u001b[0m\u001b[0;34m]\u001b[0m \u001b[0;32mfor\u001b[0m \u001b[0mx\u001b[0m \u001b[0;32min\u001b[0m \u001b[0mcounty_disability_dict\u001b[0m\u001b[0;34m.\u001b[0m\u001b[0mkeys\u001b[0m\u001b[0;34m(\u001b[0m\u001b[0;34m)\u001b[0m\u001b[0;34m]\u001b[0m\u001b[0;34m)\u001b[0m \u001b[0;34m/\u001b[0m \u001b[0mnh_df\u001b[0m\u001b[0;34m[\u001b[0m\u001b[0;34m'Number of Certified Beds'\u001b[0m\u001b[0;34m]\u001b[0m\u001b[0;34m.\u001b[0m\u001b[0msum\u001b[0m\u001b[0;34m(\u001b[0m\u001b[0;34m)\u001b[0m\u001b[0;34m,\u001b[0m\u001b[0;34m\u001b[0m\u001b[0;34m\u001b[0m\u001b[0m\n",
      "\u001b[0;31mNameError\u001b[0m: name 'nh_df' is not defined"
     ]
    }
   ],
   "source": [
    "# THIS DOESN'T REALLY MAKE SENSE ANYMORE\n",
    "print('There are {:,.0f} people who have ALF need in the United States and {:,.0f} people who have NH need.\\n\\nThere are {:,.0f} NH beds and we estimate {:,.0f} ALF beds (that fit our ALF standards),\\nor one NH bed for every {:,.2f} people who need it, and one ALF bed for every {:,.2f} people who need it.'.format(\n",
    "    np.sum([county_disability_dict[x]['ALF'] for x in county_disability_dict.keys()]),\n",
    "    np.sum([county_disability_dict[x]['NH'] for x in county_disability_dict.keys()]),\n",
    "    nh_df['Number of Certified Beds'].sum(),\n",
    "    (51/39) * ((alf_df['Capacity'].sum() / alf_df['Capacity'].notnull().sum()) * alf_df.shape[0]),\n",
    "    np.sum([county_disability_dict[x]['NH'] for x in county_disability_dict.keys()]) / nh_df['Number of Certified Beds'].sum(),\n",
    "    np.sum([county_disability_dict[x]['ALF'] for x in county_disability_dict.keys()]) / ((51/39) * ((alf_df['Capacity'].sum() / alf_df['Capacity'].notnull().sum()) * alf_df.shape[0]))\n",
    "    ))"
   ]
  },
  {
   "cell_type": "markdown",
   "metadata": {},
   "source": [
    "## Adding capacity info to all facilities"
   ]
  },
  {
   "cell_type": "code",
   "execution_count": 31,
   "metadata": {},
   "outputs": [],
   "source": [
    "capacities = alf_df[~alf_df['Capacity'].isna()]['Capacity']"
   ]
  },
  {
   "cell_type": "code",
   "execution_count": 32,
   "metadata": {},
   "outputs": [
    {
     "data": {
      "image/png": "[encoded data removed]",
      "text/plain": [
       "<Figure size 432x288 with 1 Axes>"
      ]
     },
     "metadata": {
      "needs_background": "light"
     },
     "output_type": "display_data"
    }
   ],
   "source": [
    "capacities.hist(bins=500)\n",
    "plt.xlim([0,50])\n",
    "plt.title(\"Capacities of ALF's\")\n",
    "plt.xlabel('Capacity - maximum number of beds')\n",
    "plt.ylabel('Number of facilities')\n",
    "plt.show()"
   ]
  },
  {
   "cell_type": "code",
   "execution_count": 33,
   "metadata": {},
   "outputs": [],
   "source": [
    "capacity_mode = capacities.mode()[0]\n",
    "capacity_mean = capacities.mean()\n",
    "alf_df['Capacity Estimate Mode'] = [capacity_mode if np.isnan(x) else x for x in alf_df['Capacity']]\n",
    "alf_df['Capacity Estimate Mean'] = [capacity_mean if np.isnan(x) else x for x in alf_df['Capacity']]"
   ]
  },
  {
   "cell_type": "code",
   "execution_count": 34,
   "metadata": {},
   "outputs": [
    {
     "data": {
      "text/plain": [
       "(6.0, 32.710443247831506)"
      ]
     },
     "execution_count": 34,
     "metadata": {},
     "output_type": "execute_result"
    }
   ],
   "source": [
    "capacity_mode, capacity_mean"
   ]
  },
  {
   "cell_type": "code",
   "execution_count": 35,
   "metadata": {},
   "outputs": [
    {
     "data": {
      "text/plain": [
       "(1233151.0, 1267351.0, 1419600.5265126396)"
      ]
     },
     "execution_count": 35,
     "metadata": {},
     "output_type": "execute_result"
    }
   ],
   "source": [
    "alf_df['Capacity'].sum(), alf_df['Capacity Estimate Mode'].sum(), alf_df['Capacity Estimate Mean'].sum()"
   ]
  },
  {
   "cell_type": "markdown",
   "metadata": {},
   "source": [
    "## Calculating distances to facilities"
   ]
  },
  {
   "cell_type": "code",
   "execution_count": 36,
   "metadata": {},
   "outputs": [],
   "source": [
    "# discounting need\n",
    "# for example, 'home_care_percent = 0.1' means that 10% of people with ALF need choose not to look for \n",
    "# an ALF bed because they are satisfied by home care.\n",
    "\n",
    "home_care_percent = 0\n",
    "personal_choice_percent = 0\n",
    "other_percent = 0\n",
    "discounted_rate = 1 - home_care_percent - personal_choice_percent - other_percent"
   ]
  },
  {
   "cell_type": "code",
   "execution_count": 37,
   "metadata": {},
   "outputs": [],
   "source": [
    "# creating trees of all ALF data and all NH data\n",
    "alf_kdtree = KDTree(alf_df[['Latitude', 'Longitude']].values)\n",
    "# nh_kdtree = KDTree(nh_df[['Latitude', 'Longitude']].values)"
   ]
  },
  {
   "cell_type": "code",
   "execution_count": 38,
   "metadata": {},
   "outputs": [],
   "source": [
    "county_mean_distance_alf = county_info_df.apply(get_mean_distance_to_alf, scalar=discounted_rate, capacity_type='Capacity Estimate Mean', axis=1)\n",
    "# county_mean_distance_nh = county_info_df.apply(get_mean_distance_to_nh, scalar=discounted_rate, axis=1)"
   ]
  },
  {
   "cell_type": "markdown",
   "metadata": {},
   "source": [
    "## Graphing county distances"
   ]
  },
  {
   "cell_type": "code",
   "execution_count": 39,
   "metadata": {},
   "outputs": [],
   "source": [
    "# getting dict of county info from plotly\n",
    "counties = requests.get('https://raw.githubusercontent.com/plotly/datasets/master/geojson-counties-fips.json').json()"
   ]
  },
  {
   "cell_type": "code",
   "execution_count": 40,
   "metadata": {},
   "outputs": [],
   "source": [
    "data = pd.concat([county_info_df['State'], county_info_df['FIPS'], county_mean_distance_alf], axis=1)\n",
    "data.columns = ['State', 'FIPS', 'ALF Distance']\n",
    "data['Number of ALF Beds'] = [alf_df[alf_df['County FIPS'] == fips]['Capacity'].sum() for fips in data['FIPS']]\n",
    "data['Formatted FIPS'] = data['FIPS'].apply(lambda x: str(x).zfill(5))\n",
    "\n",
    "data['Old Population'] = [int(county_oldpopulation_df.loc[county_oldpopulation_df['FIPS'] == fips]['65+ Population'].values[0]) if county_oldpopulation_df.loc[county_oldpopulation_df['FIPS'] == fips].shape[0] == 1 and not np.isnan(county_oldpopulation_df.loc[county_oldpopulation_df['FIPS'] == fips]['65+ Population'].values[0]) else 0 for fips in data['FIPS'] ]\n",
    "data['ALF Penetration Per 1000 Elderly'] = 1000 * data['Number of ALF Beds'] / data['Old Population']\n",
    "\n",
    "states_with_capacity = alf_df[~alf_df['Capacity'].isna()]['State'].unique()"
   ]
  },
  {
   "cell_type": "code",
   "execution_count": 41,
   "metadata": {},
   "outputs": [
    {
     "data": {
      "text/html": [
       "<div>\n",
       "<style scoped>\n",
       "    .dataframe tbody tr th:only-of-type {\n",
       "        vertical-align: middle;\n",
       "    }\n",
       "\n",
       "    .dataframe tbody tr th {\n",
       "        vertical-align: top;\n",
       "    }\n",
       "\n",
       "    .dataframe thead th {\n",
       "        text-align: right;\n",
       "    }\n",
       "</style>\n",
       "<table border=\"1\" class=\"dataframe\">\n",
       "  <thead>\n",
       "    <tr style=\"text-align: right;\">\n",
       "      <th></th>\n",
       "      <th>State</th>\n",
       "      <th>FIPS</th>\n",
       "      <th>ALF Distance</th>\n",
       "      <th>Number of ALF Beds</th>\n",
       "      <th>Formatted FIPS</th>\n",
       "      <th>Old Population</th>\n",
       "      <th>ALF Penetration Per 1000 Elderly</th>\n",
       "    </tr>\n",
       "  </thead>\n",
       "  <tbody>\n",
       "    <tr>\n",
       "      <th>0</th>\n",
       "      <td>AL</td>\n",
       "      <td>1001</td>\n",
       "      <td>52.424739</td>\n",
       "      <td>104.0</td>\n",
       "      <td>01001</td>\n",
       "      <td>14</td>\n",
       "      <td>7428.571429</td>\n",
       "    </tr>\n",
       "    <tr>\n",
       "      <th>1</th>\n",
       "      <td>AL</td>\n",
       "      <td>1003</td>\n",
       "      <td>106.886066</td>\n",
       "      <td>816.0</td>\n",
       "      <td>01003</td>\n",
       "      <td>19</td>\n",
       "      <td>42947.368421</td>\n",
       "    </tr>\n",
       "    <tr>\n",
       "      <th>2</th>\n",
       "      <td>AL</td>\n",
       "      <td>1005</td>\n",
       "      <td>47.346438</td>\n",
       "      <td>32.0</td>\n",
       "      <td>01005</td>\n",
       "      <td>18</td>\n",
       "      <td>1777.777778</td>\n",
       "    </tr>\n",
       "    <tr>\n",
       "      <th>3</th>\n",
       "      <td>AL</td>\n",
       "      <td>1007</td>\n",
       "      <td>30.967401</td>\n",
       "      <td>0.0</td>\n",
       "      <td>01007</td>\n",
       "      <td>15</td>\n",
       "      <td>0.000000</td>\n",
       "    </tr>\n",
       "    <tr>\n",
       "      <th>4</th>\n",
       "      <td>AL</td>\n",
       "      <td>1009</td>\n",
       "      <td>37.494061</td>\n",
       "      <td>82.0</td>\n",
       "      <td>01009</td>\n",
       "      <td>17</td>\n",
       "      <td>4823.529412</td>\n",
       "    </tr>\n",
       "    <tr>\n",
       "      <th>...</th>\n",
       "      <td>...</td>\n",
       "      <td>...</td>\n",
       "      <td>...</td>\n",
       "      <td>...</td>\n",
       "      <td>...</td>\n",
       "      <td>...</td>\n",
       "      <td>...</td>\n",
       "    </tr>\n",
       "    <tr>\n",
       "      <th>3138</th>\n",
       "      <td>WY</td>\n",
       "      <td>56037</td>\n",
       "      <td>151.320112</td>\n",
       "      <td>89.0</td>\n",
       "      <td>56037</td>\n",
       "      <td>11</td>\n",
       "      <td>8090.909091</td>\n",
       "    </tr>\n",
       "    <tr>\n",
       "      <th>3139</th>\n",
       "      <td>WY</td>\n",
       "      <td>56039</td>\n",
       "      <td>78.379582</td>\n",
       "      <td>0.0</td>\n",
       "      <td>56039</td>\n",
       "      <td>14</td>\n",
       "      <td>0.000000</td>\n",
       "    </tr>\n",
       "    <tr>\n",
       "      <th>3140</th>\n",
       "      <td>WY</td>\n",
       "      <td>56041</td>\n",
       "      <td>68.412687</td>\n",
       "      <td>32.0</td>\n",
       "      <td>56041</td>\n",
       "      <td>13</td>\n",
       "      <td>2461.538462</td>\n",
       "    </tr>\n",
       "    <tr>\n",
       "      <th>3141</th>\n",
       "      <td>WY</td>\n",
       "      <td>56043</td>\n",
       "      <td>67.245350</td>\n",
       "      <td>0.0</td>\n",
       "      <td>56043</td>\n",
       "      <td>21</td>\n",
       "      <td>0.000000</td>\n",
       "    </tr>\n",
       "    <tr>\n",
       "      <th>3142</th>\n",
       "      <td>WY</td>\n",
       "      <td>56045</td>\n",
       "      <td>50.630206</td>\n",
       "      <td>23.0</td>\n",
       "      <td>56045</td>\n",
       "      <td>19</td>\n",
       "      <td>1210.526316</td>\n",
       "    </tr>\n",
       "  </tbody>\n",
       "</table>\n",
       "<p>3143 rows × 7 columns</p>\n",
       "</div>"
      ],
      "text/plain": [
       "     State   FIPS  ALF Distance  Number of ALF Beds Formatted FIPS  \\\n",
       "0       AL   1001     52.424739               104.0          01001   \n",
       "1       AL   1003    106.886066               816.0          01003   \n",
       "2       AL   1005     47.346438                32.0          01005   \n",
       "3       AL   1007     30.967401                 0.0          01007   \n",
       "4       AL   1009     37.494061                82.0          01009   \n",
       "...    ...    ...           ...                 ...            ...   \n",
       "3138    WY  56037    151.320112                89.0          56037   \n",
       "3139    WY  56039     78.379582                 0.0          56039   \n",
       "3140    WY  56041     68.412687                32.0          56041   \n",
       "3141    WY  56043     67.245350                 0.0          56043   \n",
       "3142    WY  56045     50.630206                23.0          56045   \n",
       "\n",
       "      Old Population  ALF Penetration Per 1000 Elderly  \n",
       "0                 14                       7428.571429  \n",
       "1                 19                      42947.368421  \n",
       "2                 18                       1777.777778  \n",
       "3                 15                          0.000000  \n",
       "4                 17                       4823.529412  \n",
       "...              ...                               ...  \n",
       "3138              11                       8090.909091  \n",
       "3139              14                          0.000000  \n",
       "3140              13                       2461.538462  \n",
       "3141              21                          0.000000  \n",
       "3142              19                       1210.526316  \n",
       "\n",
       "[3143 rows x 7 columns]"
      ]
     },
     "execution_count": 41,
     "metadata": {},
     "output_type": "execute_result"
    }
   ],
   "source": [
    "data"
   ]
  },
  {
   "cell_type": "code",
   "execution_count": 42,
   "metadata": {},
   "outputs": [],
   "source": [
    "def discrete_colors(row):\n",
    "    if row['ALF Penetration Per 1000 Elderly'] == 0:\n",
    "        return 'No ALFs'\n",
    "    elif row['ALF Penetration Per 1000 Elderly'] < 15:\n",
    "        return '1-15'\n",
    "    elif row['ALF Penetration Per 1000 Elderly'] < 25:\n",
    "        return '15-25'\n",
    "    elif row['ALF Penetration Per 1000 Elderly'] < 40:\n",
    "        return '25-40'\n",
    "    else:\n",
    "        return '40+'\n",
    "\n",
    "data['ALF Penetration Per 1000 Elderly Discrete'] = data.apply(discrete_colors, axis=1)"
   ]
  },
  {
   "cell_type": "code",
   "execution_count": 43,
   "metadata": {},
   "outputs": [
    {
     "name": "stdout",
     "output_type": "stream",
     "text": [
      "This is only for counties for which we have AL data.\n"
     ]
    },
    {
     "data": {
      "image/png": "[encoded data removed]",
      "text/plain": [
       "<Figure size 432x288 with 1 Axes>"
      ]
     },
     "metadata": {
      "needs_background": "light"
     },
     "output_type": "display_data"
    }
   ],
   "source": [
    "data[data['State'].isin(states_with_alf_data)]['ALF Distance'].hist(bins=500)\n",
    "plt.title('Histogram of average distance to ALF per county ')\n",
    "plt.xlabel('Average distance in miles')\n",
    "plt.ylabel('Number of counties')\n",
    "plt.xlim([0,200])\n",
    "print('This is only for counties for which we have AL data.')\n",
    "plt.show()"
   ]
  },
  {
   "cell_type": "code",
   "execution_count": 44,
   "metadata": {},
   "outputs": [
    {
     "name": "stdout",
     "output_type": "stream",
     "text": [
      "This is only for counties for which we have AL data.\n"
     ]
    },
    {
     "data": {
      "image/png": "[encoded data removed]",
      "text/plain": [
       "<Figure size 432x288 with 1 Axes>"
      ]
     },
     "metadata": {
      "needs_background": "light"
     },
     "output_type": "display_data"
    }
   ],
   "source": [
    "data[data['State'].isin(states_with_capacity)]['Number of ALF Beds'].hist(bins=5000)\n",
    "plt.title('Histogram of number of ALF beds per county')\n",
    "plt.xlabel('Number of beds')\n",
    "plt.ylabel('Number of counties')\n",
    "plt.xlim([0,100])\n",
    "print('This is only for counties for which we have AL data.')\n",
    "plt.show()"
   ]
  },
  {
   "cell_type": "code",
   "execution_count": 45,
   "metadata": {},
   "outputs": [
    {
     "data": {
      "text/plain": [
       "\"data[data['State'].isin(states_with_capacity)]['ALF Penetration Per 1000 Elderly'].hist(bins=500)\\nplt.title('Histogram of ALF Penetration Per 1000 Elderly')\\nplt.xlabel('Number of beds per person')\\nplt.ylabel('Number of counties')\\nplt.xlim([0,100])\\nprint('This is only for counties for which we have AL data.')\\nplt.show()\""
      ]
     },
     "execution_count": 45,
     "metadata": {},
     "output_type": "execute_result"
    }
   ],
   "source": [
    "\"\"\"data[data['State'].isin(states_with_capacity)]['ALF Penetration Per 1000 Elderly'].hist(bins=500)\n",
    "plt.title('Histogram of ALF Penetration Per 1000 Elderly')\n",
    "plt.xlabel('Number of beds per person')\n",
    "plt.ylabel('Number of counties')\n",
    "plt.xlim([0,100])\n",
    "print('This is only for counties for which we have AL data.')\n",
    "plt.show()\"\"\""
   ]
  },
  {
   "cell_type": "code",
   "execution_count": 54,
   "metadata": {},
   "outputs": [],
   "source": [
    "data = data.rename(columns={'ALF Distance': 'Distance (miles)'})"
   ]
  },
  {
   "cell_type": "code",
   "execution_count": 107,
   "metadata": {},
   "outputs": [
    {
     "ename": "PlotlyRequestError",
     "evalue": "This file is too big! Your current subscription is limited to 524.288 KB uploads. For more information, please visit: https://plotly.com/get-pricing/.",
     "output_type": "error",
     "traceback": [
      "\u001b[0;31m---------------------------------------------------------------------------\u001b[0m",
      "\u001b[0;31mPlotlyRequestError\u001b[0m                        Traceback (most recent call last)",
      "\u001b[0;32m~/opt/anaconda3/envs/geo/lib/python3.9/site-packages/chart_studio/plotly/plotly.py\u001b[0m in \u001b[0;36m_create_or_update\u001b[0;34m(data, filetype)\u001b[0m\n\u001b[1;32m   1462\u001b[0m         \u001b[0;32mtry\u001b[0m\u001b[0;34m:\u001b[0m\u001b[0;34m\u001b[0m\u001b[0;34m\u001b[0m\u001b[0m\n\u001b[0;32m-> 1463\u001b[0;31m             \u001b[0mlookup_res\u001b[0m \u001b[0;34m=\u001b[0m \u001b[0mv2\u001b[0m\u001b[0;34m.\u001b[0m\u001b[0mfiles\u001b[0m\u001b[0;34m.\u001b[0m\u001b[0mlookup\u001b[0m\u001b[0;34m(\u001b[0m\u001b[0mfilename\u001b[0m\u001b[0;34m)\u001b[0m\u001b[0;34m\u001b[0m\u001b[0;34m\u001b[0m\u001b[0m\n\u001b[0m\u001b[1;32m   1464\u001b[0m             \u001b[0;32mif\u001b[0m \u001b[0misinstance\u001b[0m\u001b[0;34m(\u001b[0m\u001b[0mlookup_res\u001b[0m\u001b[0;34m.\u001b[0m\u001b[0mcontent\u001b[0m\u001b[0;34m,\u001b[0m \u001b[0mbytes\u001b[0m\u001b[0;34m)\u001b[0m\u001b[0;34m:\u001b[0m\u001b[0;34m\u001b[0m\u001b[0;34m\u001b[0m\u001b[0m\n",
      "\u001b[0;32m~/opt/anaconda3/envs/geo/lib/python3.9/site-packages/chart_studio/api/v2/files.py\u001b[0m in \u001b[0;36mlookup\u001b[0;34m(path, parent, user, exists)\u001b[0m\n\u001b[1;32m     84\u001b[0m     \u001b[0mparams\u001b[0m \u001b[0;34m=\u001b[0m \u001b[0mmake_params\u001b[0m\u001b[0;34m(\u001b[0m\u001b[0mpath\u001b[0m\u001b[0;34m=\u001b[0m\u001b[0mpath\u001b[0m\u001b[0;34m,\u001b[0m \u001b[0mparent\u001b[0m\u001b[0;34m=\u001b[0m\u001b[0mparent\u001b[0m\u001b[0;34m,\u001b[0m \u001b[0muser\u001b[0m\u001b[0;34m=\u001b[0m\u001b[0muser\u001b[0m\u001b[0;34m,\u001b[0m \u001b[0mexists\u001b[0m\u001b[0;34m=\u001b[0m\u001b[0mexists\u001b[0m\u001b[0;34m)\u001b[0m\u001b[0;34m\u001b[0m\u001b[0;34m\u001b[0m\u001b[0m\n\u001b[0;32m---> 85\u001b[0;31m     \u001b[0;32mreturn\u001b[0m \u001b[0mrequest\u001b[0m\u001b[0;34m(\u001b[0m\u001b[0;34m\"get\"\u001b[0m\u001b[0;34m,\u001b[0m \u001b[0murl\u001b[0m\u001b[0;34m,\u001b[0m \u001b[0mparams\u001b[0m\u001b[0;34m=\u001b[0m\u001b[0mparams\u001b[0m\u001b[0;34m)\u001b[0m\u001b[0;34m\u001b[0m\u001b[0;34m\u001b[0m\u001b[0m\n\u001b[0m",
      "\u001b[0;32m~/opt/anaconda3/envs/geo/lib/python3.9/site-packages/retrying.py\u001b[0m in \u001b[0;36mwrapped_f\u001b[0;34m(*args, **kw)\u001b[0m\n\u001b[1;32m     48\u001b[0m             \u001b[0;32mdef\u001b[0m \u001b[0mwrapped_f\u001b[0m\u001b[0;34m(\u001b[0m\u001b[0;34m*\u001b[0m\u001b[0margs\u001b[0m\u001b[0;34m,\u001b[0m \u001b[0;34m**\u001b[0m\u001b[0mkw\u001b[0m\u001b[0;34m)\u001b[0m\u001b[0;34m:\u001b[0m\u001b[0;34m\u001b[0m\u001b[0;34m\u001b[0m\u001b[0m\n\u001b[0;32m---> 49\u001b[0;31m                 \u001b[0;32mreturn\u001b[0m \u001b[0mRetrying\u001b[0m\u001b[0;34m(\u001b[0m\u001b[0;34m*\u001b[0m\u001b[0mdargs\u001b[0m\u001b[0;34m,\u001b[0m \u001b[0;34m**\u001b[0m\u001b[0mdkw\u001b[0m\u001b[0;34m)\u001b[0m\u001b[0;34m.\u001b[0m\u001b[0mcall\u001b[0m\u001b[0;34m(\u001b[0m\u001b[0mf\u001b[0m\u001b[0;34m,\u001b[0m \u001b[0;34m*\u001b[0m\u001b[0margs\u001b[0m\u001b[0;34m,\u001b[0m \u001b[0;34m**\u001b[0m\u001b[0mkw\u001b[0m\u001b[0;34m)\u001b[0m\u001b[0;34m\u001b[0m\u001b[0;34m\u001b[0m\u001b[0m\n\u001b[0m\u001b[1;32m     50\u001b[0m \u001b[0;34m\u001b[0m\u001b[0m\n",
      "\u001b[0;32m~/opt/anaconda3/envs/geo/lib/python3.9/site-packages/retrying.py\u001b[0m in \u001b[0;36mcall\u001b[0;34m(self, fn, *args, **kwargs)\u001b[0m\n\u001b[1;32m    205\u001b[0m             \u001b[0;32mif\u001b[0m \u001b[0;32mnot\u001b[0m \u001b[0mself\u001b[0m\u001b[0;34m.\u001b[0m\u001b[0mshould_reject\u001b[0m\u001b[0;34m(\u001b[0m\u001b[0mattempt\u001b[0m\u001b[0;34m)\u001b[0m\u001b[0;34m:\u001b[0m\u001b[0;34m\u001b[0m\u001b[0;34m\u001b[0m\u001b[0m\n\u001b[0;32m--> 206\u001b[0;31m                 \u001b[0;32mreturn\u001b[0m \u001b[0mattempt\u001b[0m\u001b[0;34m.\u001b[0m\u001b[0mget\u001b[0m\u001b[0;34m(\u001b[0m\u001b[0mself\u001b[0m\u001b[0;34m.\u001b[0m\u001b[0m_wrap_exception\u001b[0m\u001b[0;34m)\u001b[0m\u001b[0;34m\u001b[0m\u001b[0;34m\u001b[0m\u001b[0m\n\u001b[0m\u001b[1;32m    207\u001b[0m \u001b[0;34m\u001b[0m\u001b[0m\n",
      "\u001b[0;32m~/opt/anaconda3/envs/geo/lib/python3.9/site-packages/retrying.py\u001b[0m in \u001b[0;36mget\u001b[0;34m(self, wrap_exception)\u001b[0m\n\u001b[1;32m    246\u001b[0m             \u001b[0;32melse\u001b[0m\u001b[0;34m:\u001b[0m\u001b[0;34m\u001b[0m\u001b[0;34m\u001b[0m\u001b[0m\n\u001b[0;32m--> 247\u001b[0;31m                 \u001b[0msix\u001b[0m\u001b[0;34m.\u001b[0m\u001b[0mreraise\u001b[0m\u001b[0;34m(\u001b[0m\u001b[0mself\u001b[0m\u001b[0;34m.\u001b[0m\u001b[0mvalue\u001b[0m\u001b[0;34m[\u001b[0m\u001b[0;36m0\u001b[0m\u001b[0;34m]\u001b[0m\u001b[0;34m,\u001b[0m \u001b[0mself\u001b[0m\u001b[0;34m.\u001b[0m\u001b[0mvalue\u001b[0m\u001b[0;34m[\u001b[0m\u001b[0;36m1\u001b[0m\u001b[0;34m]\u001b[0m\u001b[0;34m,\u001b[0m \u001b[0mself\u001b[0m\u001b[0;34m.\u001b[0m\u001b[0mvalue\u001b[0m\u001b[0;34m[\u001b[0m\u001b[0;36m2\u001b[0m\u001b[0;34m]\u001b[0m\u001b[0;34m)\u001b[0m\u001b[0;34m\u001b[0m\u001b[0;34m\u001b[0m\u001b[0m\n\u001b[0m\u001b[1;32m    248\u001b[0m         \u001b[0;32melse\u001b[0m\u001b[0;34m:\u001b[0m\u001b[0;34m\u001b[0m\u001b[0;34m\u001b[0m\u001b[0m\n",
      "\u001b[0;32m~/opt/anaconda3/envs/geo/lib/python3.9/site-packages/six.py\u001b[0m in \u001b[0;36mreraise\u001b[0;34m(tp, value, tb)\u001b[0m\n\u001b[1;32m    718\u001b[0m                 \u001b[0;32mraise\u001b[0m \u001b[0mvalue\u001b[0m\u001b[0;34m.\u001b[0m\u001b[0mwith_traceback\u001b[0m\u001b[0;34m(\u001b[0m\u001b[0mtb\u001b[0m\u001b[0;34m)\u001b[0m\u001b[0;34m\u001b[0m\u001b[0;34m\u001b[0m\u001b[0m\n\u001b[0;32m--> 719\u001b[0;31m             \u001b[0;32mraise\u001b[0m \u001b[0mvalue\u001b[0m\u001b[0;34m\u001b[0m\u001b[0;34m\u001b[0m\u001b[0m\n\u001b[0m\u001b[1;32m    720\u001b[0m         \u001b[0;32mfinally\u001b[0m\u001b[0;34m:\u001b[0m\u001b[0;34m\u001b[0m\u001b[0;34m\u001b[0m\u001b[0m\n",
      "\u001b[0;32m~/opt/anaconda3/envs/geo/lib/python3.9/site-packages/retrying.py\u001b[0m in \u001b[0;36mcall\u001b[0;34m(self, fn, *args, **kwargs)\u001b[0m\n\u001b[1;32m    199\u001b[0m             \u001b[0;32mtry\u001b[0m\u001b[0;34m:\u001b[0m\u001b[0;34m\u001b[0m\u001b[0;34m\u001b[0m\u001b[0m\n\u001b[0;32m--> 200\u001b[0;31m                 \u001b[0mattempt\u001b[0m \u001b[0;34m=\u001b[0m \u001b[0mAttempt\u001b[0m\u001b[0;34m(\u001b[0m\u001b[0mfn\u001b[0m\u001b[0;34m(\u001b[0m\u001b[0;34m*\u001b[0m\u001b[0margs\u001b[0m\u001b[0;34m,\u001b[0m \u001b[0;34m**\u001b[0m\u001b[0mkwargs\u001b[0m\u001b[0;34m)\u001b[0m\u001b[0;34m,\u001b[0m \u001b[0mattempt_number\u001b[0m\u001b[0;34m,\u001b[0m \u001b[0;32mFalse\u001b[0m\u001b[0;34m)\u001b[0m\u001b[0;34m\u001b[0m\u001b[0;34m\u001b[0m\u001b[0m\n\u001b[0m\u001b[1;32m    201\u001b[0m             \u001b[0;32mexcept\u001b[0m\u001b[0;34m:\u001b[0m\u001b[0;34m\u001b[0m\u001b[0;34m\u001b[0m\u001b[0m\n",
      "\u001b[0;32m~/opt/anaconda3/envs/geo/lib/python3.9/site-packages/chart_studio/api/v2/utils.py\u001b[0m in \u001b[0;36mrequest\u001b[0;34m(method, url, **kwargs)\u001b[0m\n\u001b[1;32m    179\u001b[0m         \u001b[0;32mraise\u001b[0m \u001b[0mexceptions\u001b[0m\u001b[0;34m.\u001b[0m\u001b[0mPlotlyRequestError\u001b[0m\u001b[0;34m(\u001b[0m\u001b[0mmessage\u001b[0m\u001b[0;34m,\u001b[0m \u001b[0mstatus_code\u001b[0m\u001b[0;34m,\u001b[0m \u001b[0mcontent\u001b[0m\u001b[0;34m)\u001b[0m\u001b[0;34m\u001b[0m\u001b[0;34m\u001b[0m\u001b[0m\n\u001b[0;32m--> 180\u001b[0;31m     \u001b[0mvalidate_response\u001b[0m\u001b[0;34m(\u001b[0m\u001b[0mresponse\u001b[0m\u001b[0;34m)\u001b[0m\u001b[0;34m\u001b[0m\u001b[0;34m\u001b[0m\u001b[0m\n\u001b[0m\u001b[1;32m    181\u001b[0m     \u001b[0;32mreturn\u001b[0m \u001b[0mresponse\u001b[0m\u001b[0;34m\u001b[0m\u001b[0;34m\u001b[0m\u001b[0m\n",
      "\u001b[0;32m~/opt/anaconda3/envs/geo/lib/python3.9/site-packages/chart_studio/api/v2/utils.py\u001b[0m in \u001b[0;36mvalidate_response\u001b[0;34m(response)\u001b[0m\n\u001b[1;32m     81\u001b[0m \u001b[0;34m\u001b[0m\u001b[0m\n\u001b[0;32m---> 82\u001b[0;31m     \u001b[0;32mraise\u001b[0m \u001b[0mexceptions\u001b[0m\u001b[0;34m.\u001b[0m\u001b[0mPlotlyRequestError\u001b[0m\u001b[0;34m(\u001b[0m\u001b[0mmessage\u001b[0m\u001b[0;34m,\u001b[0m \u001b[0mstatus_code\u001b[0m\u001b[0;34m,\u001b[0m \u001b[0mcontent\u001b[0m\u001b[0;34m)\u001b[0m\u001b[0;34m\u001b[0m\u001b[0;34m\u001b[0m\u001b[0m\n\u001b[0m\u001b[1;32m     83\u001b[0m \u001b[0;34m\u001b[0m\u001b[0m\n",
      "\u001b[0;31mPlotlyRequestError\u001b[0m: Not found.",
      "\nDuring handling of the above exception, another exception occurred:\n",
      "\u001b[0;31mPlotlyRequestError\u001b[0m                        Traceback (most recent call last)",
      "\u001b[0;32m<ipython-input-107-56b6732f63e8>\u001b[0m in \u001b[0;36m<module>\u001b[0;34m\u001b[0m\n\u001b[1;32m     17\u001b[0m \u001b[0;31m#fig.write_image(\"../data/TESTING.pdf\")\u001b[0m\u001b[0;34m\u001b[0m\u001b[0;34m\u001b[0m\u001b[0;34m\u001b[0m\u001b[0m\n\u001b[1;32m     18\u001b[0m \u001b[0;34m\u001b[0m\u001b[0m\n\u001b[0;32m---> 19\u001b[0;31m \u001b[0mpy\u001b[0m\u001b[0;34m.\u001b[0m\u001b[0miplot\u001b[0m\u001b[0;34m(\u001b[0m\u001b[0mfig\u001b[0m\u001b[0;34m,\u001b[0m \u001b[0mfilename\u001b[0m\u001b[0;34m=\u001b[0m\u001b[0;34m'TESTEST'\u001b[0m\u001b[0;34m)\u001b[0m\u001b[0;34m\u001b[0m\u001b[0;34m\u001b[0m\u001b[0m\n\u001b[0m\u001b[1;32m     20\u001b[0m \u001b[0;34m\u001b[0m\u001b[0m\n\u001b[1;32m     21\u001b[0m \u001b[0;31m# fig.show()\u001b[0m\u001b[0;34m\u001b[0m\u001b[0;34m\u001b[0m\u001b[0;34m\u001b[0m\u001b[0m\n",
      "\u001b[0;32m~/opt/anaconda3/envs/geo/lib/python3.9/site-packages/chart_studio/plotly/plotly.py\u001b[0m in \u001b[0;36miplot\u001b[0;34m(figure_or_data, **plot_options)\u001b[0m\n\u001b[1;32m    133\u001b[0m     \u001b[0;32mif\u001b[0m \u001b[0;34m\"auto_open\"\u001b[0m \u001b[0;32mnot\u001b[0m \u001b[0;32min\u001b[0m \u001b[0mplot_options\u001b[0m\u001b[0;34m:\u001b[0m\u001b[0;34m\u001b[0m\u001b[0;34m\u001b[0m\u001b[0m\n\u001b[1;32m    134\u001b[0m         \u001b[0mplot_options\u001b[0m\u001b[0;34m[\u001b[0m\u001b[0;34m\"auto_open\"\u001b[0m\u001b[0;34m]\u001b[0m \u001b[0;34m=\u001b[0m \u001b[0;32mFalse\u001b[0m\u001b[0;34m\u001b[0m\u001b[0;34m\u001b[0m\u001b[0m\n\u001b[0;32m--> 135\u001b[0;31m     \u001b[0murl\u001b[0m \u001b[0;34m=\u001b[0m \u001b[0mplot\u001b[0m\u001b[0;34m(\u001b[0m\u001b[0mfigure_or_data\u001b[0m\u001b[0;34m,\u001b[0m \u001b[0;34m**\u001b[0m\u001b[0mplot_options\u001b[0m\u001b[0;34m)\u001b[0m\u001b[0;34m\u001b[0m\u001b[0;34m\u001b[0m\u001b[0m\n\u001b[0m\u001b[1;32m    136\u001b[0m \u001b[0;34m\u001b[0m\u001b[0m\n\u001b[1;32m    137\u001b[0m     \u001b[0;32mif\u001b[0m \u001b[0misinstance\u001b[0m\u001b[0;34m(\u001b[0m\u001b[0mfigure_or_data\u001b[0m\u001b[0;34m,\u001b[0m \u001b[0mdict\u001b[0m\u001b[0;34m)\u001b[0m\u001b[0;34m:\u001b[0m\u001b[0;34m\u001b[0m\u001b[0;34m\u001b[0m\u001b[0m\n",
      "\u001b[0;32m~/opt/anaconda3/envs/geo/lib/python3.9/site-packages/chart_studio/plotly/plotly.py\u001b[0m in \u001b[0;36mplot\u001b[0;34m(figure_or_data, validate, **plot_options)\u001b[0m\n\u001b[1;32m    284\u001b[0m         \u001b[0mpayload\u001b[0m\u001b[0;34m[\u001b[0m\u001b[0;34m\"figure\"\u001b[0m\u001b[0;34m]\u001b[0m \u001b[0;34m=\u001b[0m \u001b[0mfigure\u001b[0m\u001b[0;34m\u001b[0m\u001b[0;34m\u001b[0m\u001b[0m\n\u001b[1;32m    285\u001b[0m \u001b[0;34m\u001b[0m\u001b[0m\n\u001b[0;32m--> 286\u001b[0;31m     \u001b[0mfile_info\u001b[0m \u001b[0;34m=\u001b[0m \u001b[0m_create_or_update\u001b[0m\u001b[0;34m(\u001b[0m\u001b[0mpayload\u001b[0m\u001b[0;34m,\u001b[0m \u001b[0;34m\"plot\"\u001b[0m\u001b[0;34m)\u001b[0m\u001b[0;34m\u001b[0m\u001b[0;34m\u001b[0m\u001b[0m\n\u001b[0m\u001b[1;32m    287\u001b[0m \u001b[0;34m\u001b[0m\u001b[0m\n\u001b[1;32m    288\u001b[0m     \u001b[0;31m# Compute viewing URL\u001b[0m\u001b[0;34m\u001b[0m\u001b[0;34m\u001b[0m\u001b[0;34m\u001b[0m\u001b[0m\n",
      "\u001b[0;32m~/opt/anaconda3/envs/geo/lib/python3.9/site-packages/chart_studio/plotly/plotly.py\u001b[0m in \u001b[0;36m_create_or_update\u001b[0;34m(data, filetype)\u001b[0m\n\u001b[1;32m   1486\u001b[0m \u001b[0;34m\u001b[0m\u001b[0m\n\u001b[1;32m   1487\u001b[0m         \u001b[0;32mexcept\u001b[0m \u001b[0mexceptions\u001b[0m\u001b[0;34m.\u001b[0m\u001b[0mPlotlyRequestError\u001b[0m\u001b[0;34m:\u001b[0m\u001b[0;34m\u001b[0m\u001b[0;34m\u001b[0m\u001b[0m\n\u001b[0;32m-> 1488\u001b[0;31m             \u001b[0mres\u001b[0m \u001b[0;34m=\u001b[0m \u001b[0mapi_module\u001b[0m\u001b[0;34m.\u001b[0m\u001b[0mcreate\u001b[0m\u001b[0;34m(\u001b[0m\u001b[0mdata\u001b[0m\u001b[0;34m)\u001b[0m\u001b[0;34m\u001b[0m\u001b[0;34m\u001b[0m\u001b[0m\n\u001b[0m\u001b[1;32m   1489\u001b[0m     \u001b[0;32melse\u001b[0m\u001b[0;34m:\u001b[0m\u001b[0;34m\u001b[0m\u001b[0;34m\u001b[0m\u001b[0m\n\u001b[1;32m   1490\u001b[0m         \u001b[0mres\u001b[0m \u001b[0;34m=\u001b[0m \u001b[0mapi_module\u001b[0m\u001b[0;34m.\u001b[0m\u001b[0mcreate\u001b[0m\u001b[0;34m(\u001b[0m\u001b[0mdata\u001b[0m\u001b[0;34m)\u001b[0m\u001b[0;34m\u001b[0m\u001b[0;34m\u001b[0m\u001b[0m\n",
      "\u001b[0;32m~/opt/anaconda3/envs/geo/lib/python3.9/site-packages/chart_studio/api/v2/plots.py\u001b[0m in \u001b[0;36mcreate\u001b[0;34m(body)\u001b[0m\n\u001b[1;32m     16\u001b[0m     \"\"\"\n\u001b[1;32m     17\u001b[0m     \u001b[0murl\u001b[0m \u001b[0;34m=\u001b[0m \u001b[0mbuild_url\u001b[0m\u001b[0;34m(\u001b[0m\u001b[0mRESOURCE\u001b[0m\u001b[0;34m)\u001b[0m\u001b[0;34m\u001b[0m\u001b[0;34m\u001b[0m\u001b[0m\n\u001b[0;32m---> 18\u001b[0;31m     \u001b[0;32mreturn\u001b[0m \u001b[0mrequest\u001b[0m\u001b[0;34m(\u001b[0m\u001b[0;34m\"post\"\u001b[0m\u001b[0;34m,\u001b[0m \u001b[0murl\u001b[0m\u001b[0;34m,\u001b[0m \u001b[0mjson\u001b[0m\u001b[0;34m=\u001b[0m\u001b[0mbody\u001b[0m\u001b[0;34m)\u001b[0m\u001b[0;34m\u001b[0m\u001b[0;34m\u001b[0m\u001b[0m\n\u001b[0m\u001b[1;32m     19\u001b[0m \u001b[0;34m\u001b[0m\u001b[0m\n\u001b[1;32m     20\u001b[0m \u001b[0;34m\u001b[0m\u001b[0m\n",
      "\u001b[0;32m~/opt/anaconda3/envs/geo/lib/python3.9/site-packages/retrying.py\u001b[0m in \u001b[0;36mwrapped_f\u001b[0;34m(*args, **kw)\u001b[0m\n\u001b[1;32m     47\u001b[0m             \u001b[0;34m@\u001b[0m\u001b[0msix\u001b[0m\u001b[0;34m.\u001b[0m\u001b[0mwraps\u001b[0m\u001b[0;34m(\u001b[0m\u001b[0mf\u001b[0m\u001b[0;34m)\u001b[0m\u001b[0;34m\u001b[0m\u001b[0;34m\u001b[0m\u001b[0m\n\u001b[1;32m     48\u001b[0m             \u001b[0;32mdef\u001b[0m \u001b[0mwrapped_f\u001b[0m\u001b[0;34m(\u001b[0m\u001b[0;34m*\u001b[0m\u001b[0margs\u001b[0m\u001b[0;34m,\u001b[0m \u001b[0;34m**\u001b[0m\u001b[0mkw\u001b[0m\u001b[0;34m)\u001b[0m\u001b[0;34m:\u001b[0m\u001b[0;34m\u001b[0m\u001b[0;34m\u001b[0m\u001b[0m\n\u001b[0;32m---> 49\u001b[0;31m                 \u001b[0;32mreturn\u001b[0m \u001b[0mRetrying\u001b[0m\u001b[0;34m(\u001b[0m\u001b[0;34m*\u001b[0m\u001b[0mdargs\u001b[0m\u001b[0;34m,\u001b[0m \u001b[0;34m**\u001b[0m\u001b[0mdkw\u001b[0m\u001b[0;34m)\u001b[0m\u001b[0;34m.\u001b[0m\u001b[0mcall\u001b[0m\u001b[0;34m(\u001b[0m\u001b[0mf\u001b[0m\u001b[0;34m,\u001b[0m \u001b[0;34m*\u001b[0m\u001b[0margs\u001b[0m\u001b[0;34m,\u001b[0m \u001b[0;34m**\u001b[0m\u001b[0mkw\u001b[0m\u001b[0;34m)\u001b[0m\u001b[0;34m\u001b[0m\u001b[0;34m\u001b[0m\u001b[0m\n\u001b[0m\u001b[1;32m     50\u001b[0m \u001b[0;34m\u001b[0m\u001b[0m\n\u001b[1;32m     51\u001b[0m             \u001b[0;32mreturn\u001b[0m \u001b[0mwrapped_f\u001b[0m\u001b[0;34m\u001b[0m\u001b[0;34m\u001b[0m\u001b[0m\n",
      "\u001b[0;32m~/opt/anaconda3/envs/geo/lib/python3.9/site-packages/retrying.py\u001b[0m in \u001b[0;36mcall\u001b[0;34m(self, fn, *args, **kwargs)\u001b[0m\n\u001b[1;32m    204\u001b[0m \u001b[0;34m\u001b[0m\u001b[0m\n\u001b[1;32m    205\u001b[0m             \u001b[0;32mif\u001b[0m \u001b[0;32mnot\u001b[0m \u001b[0mself\u001b[0m\u001b[0;34m.\u001b[0m\u001b[0mshould_reject\u001b[0m\u001b[0;34m(\u001b[0m\u001b[0mattempt\u001b[0m\u001b[0;34m)\u001b[0m\u001b[0;34m:\u001b[0m\u001b[0;34m\u001b[0m\u001b[0;34m\u001b[0m\u001b[0m\n\u001b[0;32m--> 206\u001b[0;31m                 \u001b[0;32mreturn\u001b[0m \u001b[0mattempt\u001b[0m\u001b[0;34m.\u001b[0m\u001b[0mget\u001b[0m\u001b[0;34m(\u001b[0m\u001b[0mself\u001b[0m\u001b[0;34m.\u001b[0m\u001b[0m_wrap_exception\u001b[0m\u001b[0;34m)\u001b[0m\u001b[0;34m\u001b[0m\u001b[0;34m\u001b[0m\u001b[0m\n\u001b[0m\u001b[1;32m    207\u001b[0m \u001b[0;34m\u001b[0m\u001b[0m\n\u001b[1;32m    208\u001b[0m             \u001b[0mdelay_since_first_attempt_ms\u001b[0m \u001b[0;34m=\u001b[0m \u001b[0mint\u001b[0m\u001b[0;34m(\u001b[0m\u001b[0mround\u001b[0m\u001b[0;34m(\u001b[0m\u001b[0mtime\u001b[0m\u001b[0;34m.\u001b[0m\u001b[0mtime\u001b[0m\u001b[0;34m(\u001b[0m\u001b[0;34m)\u001b[0m \u001b[0;34m*\u001b[0m \u001b[0;36m1000\u001b[0m\u001b[0;34m)\u001b[0m\u001b[0;34m)\u001b[0m \u001b[0;34m-\u001b[0m \u001b[0mstart_time\u001b[0m\u001b[0;34m\u001b[0m\u001b[0;34m\u001b[0m\u001b[0m\n",
      "\u001b[0;32m~/opt/anaconda3/envs/geo/lib/python3.9/site-packages/retrying.py\u001b[0m in \u001b[0;36mget\u001b[0;34m(self, wrap_exception)\u001b[0m\n\u001b[1;32m    245\u001b[0m                 \u001b[0;32mraise\u001b[0m \u001b[0mRetryError\u001b[0m\u001b[0;34m(\u001b[0m\u001b[0mself\u001b[0m\u001b[0;34m)\u001b[0m\u001b[0;34m\u001b[0m\u001b[0;34m\u001b[0m\u001b[0m\n\u001b[1;32m    246\u001b[0m             \u001b[0;32melse\u001b[0m\u001b[0;34m:\u001b[0m\u001b[0;34m\u001b[0m\u001b[0;34m\u001b[0m\u001b[0m\n\u001b[0;32m--> 247\u001b[0;31m                 \u001b[0msix\u001b[0m\u001b[0;34m.\u001b[0m\u001b[0mreraise\u001b[0m\u001b[0;34m(\u001b[0m\u001b[0mself\u001b[0m\u001b[0;34m.\u001b[0m\u001b[0mvalue\u001b[0m\u001b[0;34m[\u001b[0m\u001b[0;36m0\u001b[0m\u001b[0;34m]\u001b[0m\u001b[0;34m,\u001b[0m \u001b[0mself\u001b[0m\u001b[0;34m.\u001b[0m\u001b[0mvalue\u001b[0m\u001b[0;34m[\u001b[0m\u001b[0;36m1\u001b[0m\u001b[0;34m]\u001b[0m\u001b[0;34m,\u001b[0m \u001b[0mself\u001b[0m\u001b[0;34m.\u001b[0m\u001b[0mvalue\u001b[0m\u001b[0;34m[\u001b[0m\u001b[0;36m2\u001b[0m\u001b[0;34m]\u001b[0m\u001b[0;34m)\u001b[0m\u001b[0;34m\u001b[0m\u001b[0;34m\u001b[0m\u001b[0m\n\u001b[0m\u001b[1;32m    248\u001b[0m         \u001b[0;32melse\u001b[0m\u001b[0;34m:\u001b[0m\u001b[0;34m\u001b[0m\u001b[0;34m\u001b[0m\u001b[0m\n\u001b[1;32m    249\u001b[0m             \u001b[0;32mreturn\u001b[0m \u001b[0mself\u001b[0m\u001b[0;34m.\u001b[0m\u001b[0mvalue\u001b[0m\u001b[0;34m\u001b[0m\u001b[0;34m\u001b[0m\u001b[0m\n",
      "\u001b[0;32m~/opt/anaconda3/envs/geo/lib/python3.9/site-packages/six.py\u001b[0m in \u001b[0;36mreraise\u001b[0;34m(tp, value, tb)\u001b[0m\n\u001b[1;32m    717\u001b[0m             \u001b[0;32mif\u001b[0m \u001b[0mvalue\u001b[0m\u001b[0;34m.\u001b[0m\u001b[0m__traceback__\u001b[0m \u001b[0;32mis\u001b[0m \u001b[0;32mnot\u001b[0m \u001b[0mtb\u001b[0m\u001b[0;34m:\u001b[0m\u001b[0;34m\u001b[0m\u001b[0;34m\u001b[0m\u001b[0m\n\u001b[1;32m    718\u001b[0m                 \u001b[0;32mraise\u001b[0m \u001b[0mvalue\u001b[0m\u001b[0;34m.\u001b[0m\u001b[0mwith_traceback\u001b[0m\u001b[0;34m(\u001b[0m\u001b[0mtb\u001b[0m\u001b[0;34m)\u001b[0m\u001b[0;34m\u001b[0m\u001b[0;34m\u001b[0m\u001b[0m\n\u001b[0;32m--> 719\u001b[0;31m             \u001b[0;32mraise\u001b[0m \u001b[0mvalue\u001b[0m\u001b[0;34m\u001b[0m\u001b[0;34m\u001b[0m\u001b[0m\n\u001b[0m\u001b[1;32m    720\u001b[0m         \u001b[0;32mfinally\u001b[0m\u001b[0;34m:\u001b[0m\u001b[0;34m\u001b[0m\u001b[0;34m\u001b[0m\u001b[0m\n\u001b[1;32m    721\u001b[0m             \u001b[0mvalue\u001b[0m \u001b[0;34m=\u001b[0m \u001b[0;32mNone\u001b[0m\u001b[0;34m\u001b[0m\u001b[0;34m\u001b[0m\u001b[0m\n",
      "\u001b[0;32m~/opt/anaconda3/envs/geo/lib/python3.9/site-packages/retrying.py\u001b[0m in \u001b[0;36mcall\u001b[0;34m(self, fn, *args, **kwargs)\u001b[0m\n\u001b[1;32m    198\u001b[0m         \u001b[0;32mwhile\u001b[0m \u001b[0;32mTrue\u001b[0m\u001b[0;34m:\u001b[0m\u001b[0;34m\u001b[0m\u001b[0;34m\u001b[0m\u001b[0m\n\u001b[1;32m    199\u001b[0m             \u001b[0;32mtry\u001b[0m\u001b[0;34m:\u001b[0m\u001b[0;34m\u001b[0m\u001b[0;34m\u001b[0m\u001b[0m\n\u001b[0;32m--> 200\u001b[0;31m                 \u001b[0mattempt\u001b[0m \u001b[0;34m=\u001b[0m \u001b[0mAttempt\u001b[0m\u001b[0;34m(\u001b[0m\u001b[0mfn\u001b[0m\u001b[0;34m(\u001b[0m\u001b[0;34m*\u001b[0m\u001b[0margs\u001b[0m\u001b[0;34m,\u001b[0m \u001b[0;34m**\u001b[0m\u001b[0mkwargs\u001b[0m\u001b[0;34m)\u001b[0m\u001b[0;34m,\u001b[0m \u001b[0mattempt_number\u001b[0m\u001b[0;34m,\u001b[0m \u001b[0;32mFalse\u001b[0m\u001b[0;34m)\u001b[0m\u001b[0;34m\u001b[0m\u001b[0;34m\u001b[0m\u001b[0m\n\u001b[0m\u001b[1;32m    201\u001b[0m             \u001b[0;32mexcept\u001b[0m\u001b[0;34m:\u001b[0m\u001b[0;34m\u001b[0m\u001b[0;34m\u001b[0m\u001b[0m\n\u001b[1;32m    202\u001b[0m                 \u001b[0mtb\u001b[0m \u001b[0;34m=\u001b[0m \u001b[0msys\u001b[0m\u001b[0;34m.\u001b[0m\u001b[0mexc_info\u001b[0m\u001b[0;34m(\u001b[0m\u001b[0;34m)\u001b[0m\u001b[0;34m\u001b[0m\u001b[0;34m\u001b[0m\u001b[0m\n",
      "\u001b[0;32m~/opt/anaconda3/envs/geo/lib/python3.9/site-packages/chart_studio/api/v2/utils.py\u001b[0m in \u001b[0;36mrequest\u001b[0;34m(method, url, **kwargs)\u001b[0m\n\u001b[1;32m    178\u001b[0m         \u001b[0mcontent\u001b[0m \u001b[0;34m=\u001b[0m \u001b[0mresponse\u001b[0m\u001b[0;34m.\u001b[0m\u001b[0mcontent\u001b[0m \u001b[0;32mif\u001b[0m \u001b[0mresponse\u001b[0m \u001b[0;32melse\u001b[0m \u001b[0;34m\"No content\"\u001b[0m\u001b[0;34m\u001b[0m\u001b[0;34m\u001b[0m\u001b[0m\n\u001b[1;32m    179\u001b[0m         \u001b[0;32mraise\u001b[0m \u001b[0mexceptions\u001b[0m\u001b[0;34m.\u001b[0m\u001b[0mPlotlyRequestError\u001b[0m\u001b[0;34m(\u001b[0m\u001b[0mmessage\u001b[0m\u001b[0;34m,\u001b[0m \u001b[0mstatus_code\u001b[0m\u001b[0;34m,\u001b[0m \u001b[0mcontent\u001b[0m\u001b[0;34m)\u001b[0m\u001b[0;34m\u001b[0m\u001b[0;34m\u001b[0m\u001b[0m\n\u001b[0;32m--> 180\u001b[0;31m     \u001b[0mvalidate_response\u001b[0m\u001b[0;34m(\u001b[0m\u001b[0mresponse\u001b[0m\u001b[0;34m)\u001b[0m\u001b[0;34m\u001b[0m\u001b[0;34m\u001b[0m\u001b[0m\n\u001b[0m\u001b[1;32m    181\u001b[0m     \u001b[0;32mreturn\u001b[0m \u001b[0mresponse\u001b[0m\u001b[0;34m\u001b[0m\u001b[0;34m\u001b[0m\u001b[0m\n",
      "\u001b[0;32m~/opt/anaconda3/envs/geo/lib/python3.9/site-packages/chart_studio/api/v2/utils.py\u001b[0m in \u001b[0;36mvalidate_response\u001b[0;34m(response)\u001b[0m\n\u001b[1;32m     80\u001b[0m         \u001b[0mmessage\u001b[0m \u001b[0;34m=\u001b[0m \u001b[0mcontent\u001b[0m \u001b[0;32mif\u001b[0m \u001b[0mcontent\u001b[0m \u001b[0;32melse\u001b[0m \u001b[0;34m\"No Content\"\u001b[0m\u001b[0;34m\u001b[0m\u001b[0;34m\u001b[0m\u001b[0m\n\u001b[1;32m     81\u001b[0m \u001b[0;34m\u001b[0m\u001b[0m\n\u001b[0;32m---> 82\u001b[0;31m     \u001b[0;32mraise\u001b[0m \u001b[0mexceptions\u001b[0m\u001b[0;34m.\u001b[0m\u001b[0mPlotlyRequestError\u001b[0m\u001b[0;34m(\u001b[0m\u001b[0mmessage\u001b[0m\u001b[0;34m,\u001b[0m \u001b[0mstatus_code\u001b[0m\u001b[0;34m,\u001b[0m \u001b[0mcontent\u001b[0m\u001b[0;34m)\u001b[0m\u001b[0;34m\u001b[0m\u001b[0;34m\u001b[0m\u001b[0m\n\u001b[0m\u001b[1;32m     83\u001b[0m \u001b[0;34m\u001b[0m\u001b[0m\n\u001b[1;32m     84\u001b[0m \u001b[0;34m\u001b[0m\u001b[0m\n",
      "\u001b[0;31mPlotlyRequestError\u001b[0m: This file is too big! Your current subscription is limited to 524.288 KB uploads. For more information, please visit: https://plotly.com/get-pricing/."
     ]
    }
   ],
   "source": [
    "# graph of ALF distance\n",
    "\n",
    "# VSCode update broke plotly visualization below. Can still save to disk with writeimage() and that will show visualization properly\n",
    "\n",
    "fig = px.choropleth(data, geojson=counties, locations='Formatted FIPS', color='Distance (miles)',\n",
    "                           color_continuous_scale=\"Viridis\",\n",
    "                           range_color=(0, 150),\n",
    "                           scope=\"usa\",\n",
    "                           labels={'Alf Distance test':'Distance (mi)'}\n",
    "                          )\n",
    "fig.update_layout(margin={\"r\":0,\"t\":0,\"l\":0,\"b\":0})\n",
    "fig.update_coloraxes(colorbar_len = .67) \n",
    "fig.update_coloraxes(colorbar_thickness = 20) \n",
    "fig.update_coloraxes(colorbar_title_side='right')\n",
    "fig.update_coloraxes(colorbar_x=.95)\n",
    "\n",
    "#fig.write_image(\"../data/TESTING.pdf\")\n",
    "\n",
    "py.iplot(fig, filename='TESTEST')\n",
    "\n",
    "# fig.show()"
   ]
  },
  {
   "cell_type": "code",
   "execution_count": 98,
   "metadata": {},
   "outputs": [],
   "source": [
    "# fig.write_image(\"alf-datasets/national/alf-county-distances-graph-8-27-21.pdf\")"
   ]
  },
  {
   "cell_type": "code",
   "execution_count": 77,
   "metadata": {},
   "outputs": [
    {
     "data": {
      "text/plain": [
       "'# graph of number of ALF Beds\\n# only graphing for counties in states that we have ALF data for\\n\\n# VSCode update broke plotly visualization below. Can still save to disk with writeimage() and that will show visualization properly\\n\\nfig = px.choropleth(data[data[\\'State\\'].isin(states_with_capacity)], geojson=counties, locations=\\'FIPS\\', color=\\'Number of ALF Beds\\',\\n                           color_continuous_scale=\"Viridis\",\\n                           range_color=(0, 150),\\n                           title=\\'Distance to Assited Living Bed for Someone with AL Need\\',\\n                           scope=\"usa\",\\n                           labels={\\'Alf Distance\\':\\'Distance (mi)\\'}\\n                          )\\nfig = fig.update_layout(margin={\"r\":0,\"t\":0,\"l\":0,\"b\":0})\\n# fig.show()'"
      ]
     },
     "execution_count": 77,
     "metadata": {},
     "output_type": "execute_result"
    }
   ],
   "source": [
    "\"\"\"# graph of number of ALF Beds\n",
    "# only graphing for counties in states that we have ALF data for\n",
    "\n",
    "# VSCode update broke plotly visualization below. Can still save to disk with writeimage() and that will show visualization properly\n",
    "\n",
    "fig = px.choropleth(data[data['State'].isin(states_with_capacity)], geojson=counties, locations='FIPS', color='Number of ALF Beds',\n",
    "                           color_continuous_scale=\"Viridis\",\n",
    "                           range_color=(0, 150),\n",
    "                           title='Distance to Assited Living Bed for Someone with AL Need',\n",
    "                           scope=\"usa\",\n",
    "                           labels={'Alf Distance':'Distance (mi)'}\n",
    "                          )\n",
    "fig = fig.update_layout(margin={\"r\":0,\"t\":0,\"l\":0,\"b\":0})\n",
    "# fig.show()\"\"\""
   ]
  },
  {
   "cell_type": "code",
   "execution_count": 78,
   "metadata": {},
   "outputs": [
    {
     "data": {
      "text/plain": [
       "'# graph of number of ALF Beds per person 65+\\n# only graphing for counties in states that we have ALF data for\\n\\n# VSCode update broke plotly visualization below. Can still save to disk with writeimage() and that will show visualization properly\\n\\nfig = px.choropleth(data[data[\\'State\\'].isin(states_with_capacity)], geojson=counties, locations=\\'FIPS\\', color=\\'ALF Penetration Per 1000 Elderly Discrete\\', \\n                           color_discrete_sequence=[\"#f9f374\", \"#debb46\", \"#fefefe\", \"#440a08\", \"#9b5d21\"],\\n                           title=\\'Distance to Assited Living Bed for Someone with AL Need\\',\\n                           scope=\"usa\",\\n                           labels={\\'Alf Distance\\':\\'Distance (mi)\\'}\\n                          )\\nfig = fig.update_layout(\\n    margin={\"r\":0,\"t\":0,\"l\":0,\"b\":0}\\n)\\n#fig[\\'layout\\'][\\'geo\\'][\\'subunitcolor\\']=\\'rgba(0,0,0,0)\\'\\nfig.update_traces(marker_line_width=0)\\n# fig.show()'"
      ]
     },
     "execution_count": 78,
     "metadata": {},
     "output_type": "execute_result"
    }
   ],
   "source": [
    "\"\"\"# graph of number of ALF Beds per person 65+\n",
    "# only graphing for counties in states that we have ALF data for\n",
    "\n",
    "# VSCode update broke plotly visualization below. Can still save to disk with writeimage() and that will show visualization properly\n",
    "\n",
    "fig = px.choropleth(data[data['State'].isin(states_with_capacity)], geojson=counties, locations='FIPS', color='ALF Penetration Per 1000 Elderly Discrete', \n",
    "                           color_discrete_sequence=[\"#f9f374\", \"#debb46\", \"#fefefe\", \"#440a08\", \"#9b5d21\"],\n",
    "                           title='Distance to Assited Living Bed for Someone with AL Need',\n",
    "                           scope=\"usa\",\n",
    "                           labels={'Alf Distance':'Distance (mi)'}\n",
    "                          )\n",
    "fig = fig.update_layout(\n",
    "    margin={\"r\":0,\"t\":0,\"l\":0,\"b\":0}\n",
    ")\n",
    "#fig['layout']['geo']['subunitcolor']='rgba(0,0,0,0)'\n",
    "fig.update_traces(marker_line_width=0)\n",
    "# fig.show()\"\"\""
   ]
  },
  {
   "cell_type": "code",
   "execution_count": 49,
   "metadata": {},
   "outputs": [],
   "source": [
    "fig.write_image(\"../data/TESTING.pdf\")\n",
    "# fig.write_image(\"alf-datasets/national/alf-county-distances-graph-8-27-21.pdf\")"
   ]
  },
  {
   "cell_type": "markdown",
   "metadata": {},
   "source": [
    "## graphing all NHs and ALFs for lightning pres"
   ]
  },
  {
   "cell_type": "code",
   "execution_count": 114,
   "metadata": {},
   "outputs": [],
   "source": [
    "alf_df_compact = alf_df[['Latitude', 'Longitude']]\n",
    "nh_df_compact = nh_df[['Latitude', 'Longitude']]"
   ]
  },
  {
   "cell_type": "code",
   "execution_count": 108,
   "metadata": {},
   "outputs": [
    {
     "ename": "NameError",
     "evalue": "name 'alf_df_compact' is not defined",
     "output_type": "error",
     "traceback": [
      "\u001b[0;31m---------------------------------------------------------------------------\u001b[0m",
      "\u001b[0;31mNameError\u001b[0m                                 Traceback (most recent call last)",
      "\u001b[0;32m<ipython-input-108-2373552db1c2>\u001b[0m in \u001b[0;36m<module>\u001b[0;34m\u001b[0m\n\u001b[1;32m      1\u001b[0m fig = go.Figure(data=go.Scattergeo(\n\u001b[0;32m----> 2\u001b[0;31m         \u001b[0mlon\u001b[0m \u001b[0;34m=\u001b[0m \u001b[0malf_df_compact\u001b[0m\u001b[0;34m[\u001b[0m\u001b[0;34m'Longitude'\u001b[0m\u001b[0;34m]\u001b[0m\u001b[0;34m,\u001b[0m\u001b[0;34m\u001b[0m\u001b[0;34m\u001b[0m\u001b[0m\n\u001b[0m\u001b[1;32m      3\u001b[0m         \u001b[0mlat\u001b[0m \u001b[0;34m=\u001b[0m \u001b[0malf_df_compact\u001b[0m\u001b[0;34m[\u001b[0m\u001b[0;34m'Latitude'\u001b[0m\u001b[0;34m]\u001b[0m\u001b[0;34m,\u001b[0m\u001b[0;34m\u001b[0m\u001b[0;34m\u001b[0m\u001b[0m\n\u001b[1;32m      4\u001b[0m         \u001b[0mmode\u001b[0m \u001b[0;34m=\u001b[0m \u001b[0;34m'markers'\u001b[0m\u001b[0;34m,\u001b[0m\u001b[0;34m\u001b[0m\u001b[0;34m\u001b[0m\u001b[0m\n\u001b[1;32m      5\u001b[0m         marker = dict(\n",
      "\u001b[0;31mNameError\u001b[0m: name 'alf_df_compact' is not defined"
     ]
    }
   ],
   "source": [
    "fig = go.Figure(data=go.Scattergeo(\n",
    "        lon = alf_df_compact['Longitude'],\n",
    "        lat = alf_df_compact['Latitude'],\n",
    "        mode = 'markers',\n",
    "        marker = dict(\n",
    "                size = 2,\n",
    "                color = '#326ba8',\n",
    "                opacity = 0.4\n",
    "        )\n",
    "        ))\n",
    "\n",
    "fig.update_layout(\n",
    "        geo_scope='usa',\n",
    "        paper_bgcolor='rgba(0,0,0,0)',\n",
    "        plot_bgcolor='rgba(0,0,0,0)'\n",
    "    )\n",
    "# fig.show()"
   ]
  },
  {
   "cell_type": "code",
   "execution_count": 124,
   "metadata": {},
   "outputs": [],
   "source": [
    "fig.write_image(\"../data/other-data/al-graph.pdf\")"
   ]
  },
  {
   "cell_type": "code",
   "execution_count": 110,
   "metadata": {},
   "outputs": [
    {
     "ename": "NameError",
     "evalue": "name 'nh_df_compact' is not defined",
     "output_type": "error",
     "traceback": [
      "\u001b[0;31m---------------------------------------------------------------------------\u001b[0m",
      "\u001b[0;31mNameError\u001b[0m                                 Traceback (most recent call last)",
      "\u001b[0;32m<ipython-input-110-64a92cb00397>\u001b[0m in \u001b[0;36m<module>\u001b[0;34m\u001b[0m\n\u001b[1;32m      1\u001b[0m fig = go.Figure(data=go.Scattergeo(\n\u001b[0;32m----> 2\u001b[0;31m         \u001b[0mlon\u001b[0m \u001b[0;34m=\u001b[0m \u001b[0mnh_df_compact\u001b[0m\u001b[0;34m[\u001b[0m\u001b[0;34m'Longitude'\u001b[0m\u001b[0;34m]\u001b[0m\u001b[0;34m,\u001b[0m\u001b[0;34m\u001b[0m\u001b[0;34m\u001b[0m\u001b[0m\n\u001b[0m\u001b[1;32m      3\u001b[0m         \u001b[0mlat\u001b[0m \u001b[0;34m=\u001b[0m \u001b[0mnh_df_compact\u001b[0m\u001b[0;34m[\u001b[0m\u001b[0;34m'Latitude'\u001b[0m\u001b[0;34m]\u001b[0m\u001b[0;34m,\u001b[0m\u001b[0;34m\u001b[0m\u001b[0;34m\u001b[0m\u001b[0m\n\u001b[1;32m      4\u001b[0m         \u001b[0mmode\u001b[0m \u001b[0;34m=\u001b[0m \u001b[0;34m'markers'\u001b[0m\u001b[0;34m,\u001b[0m\u001b[0;34m\u001b[0m\u001b[0;34m\u001b[0m\u001b[0m\n\u001b[1;32m      5\u001b[0m         marker = dict(\n",
      "\u001b[0;31mNameError\u001b[0m: name 'nh_df_compact' is not defined"
     ]
    }
   ],
   "source": [
    "fig = go.Figure(data=go.Scattergeo(\n",
    "        lon = nh_df_compact['Longitude'],\n",
    "        lat = nh_df_compact['Latitude'],\n",
    "        mode = 'markers',\n",
    "        marker = dict(\n",
    "                size = 2,\n",
    "                color = '#a83258',\n",
    "                opacity = 0.4\n",
    "        )\n",
    "        ))\n",
    "\n",
    "fig.update_layout(\n",
    "        title = '',\n",
    "        geo_scope='usa',\n",
    "    )"
   ]
  },
  {
   "cell_type": "code",
   "execution_count": 127,
   "metadata": {},
   "outputs": [],
   "source": [
    "fig.write_image(\"../data/other-data/nh-graph.pdf\")"
   ]
  },
  {
   "cell_type": "code",
   "execution_count": null,
   "metadata": {},
   "outputs": [],
   "source": []
  }
 ],
 "metadata": {
  "interpreter": {
   "hash": "a43cb26e38ec78d932b1414fd65bf2f9d1b0a1537f9b457964f5978604eec4f6"
  },
  "kernelspec": {
   "display_name": "Python 3.9.4 64-bit ('geo': conda)",
   "name": "python3"
  },
  "language_info": {
   "codemirror_mode": {
    "name": "ipython",
    "version": 3
   },
   "file_extension": ".py",
   "mimetype": "text/x-python",
   "name": "python",
   "nbconvert_exporter": "python",
   "pygments_lexer": "ipython3",
   "version": "3.9.4"
  },
  "orig_nbformat": 4
 },
 "nbformat": 4,
 "nbformat_minor": 2
}
